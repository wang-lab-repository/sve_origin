{
 "cells": [
  {
   "cell_type": "code",
   "execution_count": 1,
   "id": "db459c52",
   "metadata": {},
   "outputs": [],
   "source": [
    "import ML_basic_function as fc\n",
    "from ML_basic_function import *\n",
    "import numpy as np\n",
    "import pandas as pd\n",
    "import seaborn as sns\n",
    "import matplotlib.pyplot as plt\n",
    "from sklearn import preprocessing\n",
    "from sklearn.compose import ColumnTransformer\n",
    "from sklearn.preprocessing import StandardScaler\n",
    "from sklearn.model_selection import train_test_split\n",
    "from sklearn.preprocessing import MinMaxScaler\n",
    "from sklearn.preprocessing import Normalizer\n",
    "from sklearn import cluster\n",
    "from sklearn import tree\n",
    "from sklearn.tree import DecisionTreeClassifier\n",
    "from sklearn.metrics import accuracy_score,precision_score,recall_score,f1_score,roc_auc_score,mutual_info_score\n",
    "from sklearn.linear_model import LogisticRegression\n",
    "from sklearn.pipeline import make_pipeline\n",
    "from sklearn.model_selection import GridSearchCV\n",
    "import time\n",
    "from sklearn.base import BaseEstimator, TransformerMixin,ClassifierMixin\n",
    "from sklearn.tree import DecisionTreeClassifier\n",
    "import inspect, re\n",
    "from sklearn.preprocessing import PolynomialFeatures\n",
    "from itertools import product\n",
    "from sklearn.preprocessing import OrdinalEncoder\n",
    "from tqdm import tqdm\n",
    "import gc\n",
    "from sklearn.feature_selection import VarianceThreshold,r_regression,SelectKBest,f_regression,SelectPercentile,chi2,f_classif,mutual_info_regression,mutual_info_classif,RFE,RFECV,SequentialFeatureSelector,SelectFromModel\n",
    "from scipy import stats\n",
    "import scipy\n",
    "import random\n",
    "from joblib import dump, load\n",
    "from scipy.special import digamma\n",
    "from sklearn.ensemble import RandomForestClassifier\n",
    "from sklearn.ensemble import VotingClassifier\n",
    "from hyperopt import hp, fmin, tpe\n",
    "from numpy.random import RandomState\n",
    "from sklearn.model_selection import cross_val_score\n",
    "from sklearn.metrics import roc_curve\n",
    "from sklearn.metrics import roc_auc_score as AUC\n",
    "import xgboost as xgb\n",
    "from sklearn.ensemble import GradientBoostingClassifier as GBC\n",
    "import lightgbm as lgb\n",
    "from lightgbm import LGBMClassifier"
   ]
  },
  {
   "cell_type": "code",
   "execution_count": 2,
   "id": "bbf91c77",
   "metadata": {},
   "outputs": [],
   "source": [
    "X_train = pd.read_csv(\"fff/X_train.csv\")\n",
    "X_test = pd.read_csv(\"fff/X_test.csv\")\n",
    "y_train = pd.read_csv(\"fff/y_train.csv\")\n",
    "y_test = pd.read_csv(\"fff/y_test.csv\")"
   ]
  },
  {
   "cell_type": "code",
   "execution_count": 3,
   "id": "3a8917ee",
   "metadata": {},
   "outputs": [
    {
     "data": {
      "text/plain": [
       "(24444, 2598)"
      ]
     },
     "execution_count": 3,
     "metadata": {},
     "output_type": "execute_result"
    }
   ],
   "source": [
    "X_train.shape"
   ]
  },
  {
   "cell_type": "code",
   "execution_count": 4,
   "id": "e0de55f3",
   "metadata": {},
   "outputs": [],
   "source": [
    "y_train = np.ravel(y_train)\n",
    "y_test = np.ravel(y_test)"
   ]
  },
  {
   "cell_type": "code",
   "execution_count": 5,
   "id": "38e87304",
   "metadata": {},
   "outputs": [],
   "source": [
    "y_train = pd.Series(y_train)\n",
    "y_test = pd.Series(y_test)"
   ]
  },
  {
   "cell_type": "markdown",
   "id": "51806cab",
   "metadata": {},
   "source": [
    "# 模型训练"
   ]
  },
  {
   "cell_type": "markdown",
   "id": "68183922",
   "metadata": {},
   "source": [
    "## 随机森林"
   ]
  },
  {
   "cell_type": "code",
   "execution_count": null,
   "id": "312a9663",
   "metadata": {},
   "outputs": [],
   "source": [
    "# 设置超参数空间\n",
    "parameter_space = {\n",
    "    \"min_samples_leaf\": list(np.arange(1, 35, 5)), \n",
    "    \"min_samples_split\": list(np.arange(2, 38, 5)),\n",
    "    \"max_depth\": np.arange(26, 34, 2),\n",
    "    \"max_leaf_nodes\": [None] + list(np.arange(3230, 3420, 30)), \n",
    "    \"n_estimators\": np.arange(50, 320, 25), \n",
    "    \"max_features\":['sqrt', 'log2'] + list(np.arange(100, 2598, 200)), \n",
    "    \"max_samples\":[None, 0.4, 0.5, 0.6, 0.7]}\n",
    "\n",
    "# 实例化模型与评估器\n",
    "RF_1 = RandomForestClassifier(random_state=5780)\n",
    "grid_RF_1 = GridSearchCV(RF_1, parameter_space, n_jobs=30)\n",
    "\n",
    "# 模型训练\n",
    "grid_RF_1.fit(X_train1, y_train1)"
   ]
  },
  {
   "cell_type": "code",
   "execution_count": 25,
   "id": "82c19253",
   "metadata": {},
   "outputs": [],
   "source": [
    "param_grid_simple = {'n_estimators': hp.quniform(\"n_estimators\",450,501,1)\n",
    "                     , 'max_depth': hp.quniform(\"max_depth\",25,36,1)\n",
    "                     , \"min_samples_leaf\":hp.quniform(\"min_samples_leaf\",1,2,1)\n",
    "                     , \"min_samples_split\":hp.quniform(\"min_samples_split\",15,25,1)\n",
    "                     , \"max_leaf_nodes\":hp.quniform(\"max_leaf_nodes\",3230,3281,1)\n",
    "                    } "
   ]
  },
  {
   "cell_type": "code",
   "execution_count": 26,
   "id": "5bf0766d",
   "metadata": {},
   "outputs": [],
   "source": [
    "# 定义目标函数\n",
    "def hyperopt_objective(params):\n",
    "    clf = RandomForestClassifier(n_estimators = int(params[\"n_estimators\"])\n",
    "                                 ,max_depth = int(params[\"max_depth\"])\n",
    "                                 \n",
    "                                 ,min_samples_leaf = int(params[\"min_samples_leaf\"])\n",
    "                                 ,min_samples_split = int(params[\"min_samples_split\"])\n",
    "                                 ,max_leaf_nodes = int(params[\"max_leaf_nodes\"])\n",
    "                                 ,random_state = 5780\n",
    "                                 ,verbose = False\n",
    "                                 ,n_jobs = 30)\n",
    "    \n",
    "    #交叉验证结果，输出准确率\n",
    "    clf.fit(X_train, y_train)\n",
    "    score = clf.score(X_test, y_test)\n",
    "    \n",
    "    #最终输出结果，由于只能取最小值，所以必须对（-RMSE）求绝对值\n",
    "    #以求解最小RMSE所对应的参数组合\n",
    "    return -score"
   ]
  },
  {
   "cell_type": "code",
   "execution_count": 27,
   "id": "33b61fe1",
   "metadata": {},
   "outputs": [],
   "source": [
    "# 定义优化函数\n",
    "def param_hyperopt(max_evals):\n",
    "    #定义代理模型\n",
    "    params_best = fmin(fn = hyperopt_objective #目标函数\n",
    "                       , space = param_grid_simple #参数空间\n",
    "                       , algo = tpe.suggest \n",
    "                       , max_evals = max_evals #允许的迭代次数\n",
    "                      )\n",
    "    return params_best"
   ]
  },
  {
   "cell_type": "code",
   "execution_count": 28,
   "id": "7aa91456",
   "metadata": {
    "scrolled": true
   },
   "outputs": [
    {
     "name": "stdout",
     "output_type": "stream",
     "text": [
      " 33%|█████████████▌                           | 495/1500 [1:18:50<2:40:03,  9.56s/trial, best loss: -0.899128727451221]\n"
     ]
    },
    {
     "ename": "KeyboardInterrupt",
     "evalue": "",
     "output_type": "error",
     "traceback": [
      "\u001b[1;31m---------------------------------------------------------------------------\u001b[0m",
      "\u001b[1;31mKeyboardInterrupt\u001b[0m                         Traceback (most recent call last)",
      "\u001b[1;32m<ipython-input-28-39470b015918>\u001b[0m in \u001b[0;36m<module>\u001b[1;34m\u001b[0m\n\u001b[1;32m----> 1\u001b[1;33m \u001b[0mparams_best\u001b[0m \u001b[1;33m=\u001b[0m \u001b[0mparam_hyperopt\u001b[0m\u001b[1;33m(\u001b[0m\u001b[1;36m1500\u001b[0m\u001b[1;33m)\u001b[0m\u001b[1;33m\u001b[0m\u001b[1;33m\u001b[0m\u001b[0m\n\u001b[0m",
      "\u001b[1;32m<ipython-input-27-f8f050b47f67>\u001b[0m in \u001b[0;36mparam_hyperopt\u001b[1;34m(max_evals)\u001b[0m\n\u001b[0;32m      2\u001b[0m \u001b[1;32mdef\u001b[0m \u001b[0mparam_hyperopt\u001b[0m\u001b[1;33m(\u001b[0m\u001b[0mmax_evals\u001b[0m\u001b[1;33m)\u001b[0m\u001b[1;33m:\u001b[0m\u001b[1;33m\u001b[0m\u001b[1;33m\u001b[0m\u001b[0m\n\u001b[0;32m      3\u001b[0m     \u001b[1;31m#定义代理模型\u001b[0m\u001b[1;33m\u001b[0m\u001b[1;33m\u001b[0m\u001b[1;33m\u001b[0m\u001b[0m\n\u001b[1;32m----> 4\u001b[1;33m     params_best = fmin(fn = hyperopt_objective #目标函数\n\u001b[0m\u001b[0;32m      5\u001b[0m                        \u001b[1;33m,\u001b[0m \u001b[0mspace\u001b[0m \u001b[1;33m=\u001b[0m \u001b[0mparam_grid_simple\u001b[0m \u001b[1;31m#参数空间\u001b[0m\u001b[1;33m\u001b[0m\u001b[1;33m\u001b[0m\u001b[0m\n\u001b[0;32m      6\u001b[0m                        \u001b[1;33m,\u001b[0m \u001b[0malgo\u001b[0m \u001b[1;33m=\u001b[0m \u001b[0mtpe\u001b[0m\u001b[1;33m.\u001b[0m\u001b[0msuggest\u001b[0m\u001b[1;33m\u001b[0m\u001b[1;33m\u001b[0m\u001b[0m\n",
      "\u001b[1;32mD:\\anaconda3\\lib\\site-packages\\hyperopt\\fmin.py\u001b[0m in \u001b[0;36mfmin\u001b[1;34m(fn, space, algo, max_evals, timeout, loss_threshold, trials, rstate, allow_trials_fmin, pass_expr_memo_ctrl, catch_eval_exceptions, verbose, return_argmin, points_to_evaluate, max_queue_len, show_progressbar, early_stop_fn, trials_save_file)\u001b[0m\n\u001b[0;32m    584\u001b[0m \u001b[1;33m\u001b[0m\u001b[0m\n\u001b[0;32m    585\u001b[0m     \u001b[1;31m# next line is where the fmin is actually executed\u001b[0m\u001b[1;33m\u001b[0m\u001b[1;33m\u001b[0m\u001b[1;33m\u001b[0m\u001b[0m\n\u001b[1;32m--> 586\u001b[1;33m     \u001b[0mrval\u001b[0m\u001b[1;33m.\u001b[0m\u001b[0mexhaust\u001b[0m\u001b[1;33m(\u001b[0m\u001b[1;33m)\u001b[0m\u001b[1;33m\u001b[0m\u001b[1;33m\u001b[0m\u001b[0m\n\u001b[0m\u001b[0;32m    587\u001b[0m \u001b[1;33m\u001b[0m\u001b[0m\n\u001b[0;32m    588\u001b[0m     \u001b[1;32mif\u001b[0m \u001b[0mreturn_argmin\u001b[0m\u001b[1;33m:\u001b[0m\u001b[1;33m\u001b[0m\u001b[1;33m\u001b[0m\u001b[0m\n",
      "\u001b[1;32mD:\\anaconda3\\lib\\site-packages\\hyperopt\\fmin.py\u001b[0m in \u001b[0;36mexhaust\u001b[1;34m(self)\u001b[0m\n\u001b[0;32m    362\u001b[0m     \u001b[1;32mdef\u001b[0m \u001b[0mexhaust\u001b[0m\u001b[1;33m(\u001b[0m\u001b[0mself\u001b[0m\u001b[1;33m)\u001b[0m\u001b[1;33m:\u001b[0m\u001b[1;33m\u001b[0m\u001b[1;33m\u001b[0m\u001b[0m\n\u001b[0;32m    363\u001b[0m         \u001b[0mn_done\u001b[0m \u001b[1;33m=\u001b[0m \u001b[0mlen\u001b[0m\u001b[1;33m(\u001b[0m\u001b[0mself\u001b[0m\u001b[1;33m.\u001b[0m\u001b[0mtrials\u001b[0m\u001b[1;33m)\u001b[0m\u001b[1;33m\u001b[0m\u001b[1;33m\u001b[0m\u001b[0m\n\u001b[1;32m--> 364\u001b[1;33m         \u001b[0mself\u001b[0m\u001b[1;33m.\u001b[0m\u001b[0mrun\u001b[0m\u001b[1;33m(\u001b[0m\u001b[0mself\u001b[0m\u001b[1;33m.\u001b[0m\u001b[0mmax_evals\u001b[0m \u001b[1;33m-\u001b[0m \u001b[0mn_done\u001b[0m\u001b[1;33m,\u001b[0m \u001b[0mblock_until_done\u001b[0m\u001b[1;33m=\u001b[0m\u001b[0mself\u001b[0m\u001b[1;33m.\u001b[0m\u001b[0masynchronous\u001b[0m\u001b[1;33m)\u001b[0m\u001b[1;33m\u001b[0m\u001b[1;33m\u001b[0m\u001b[0m\n\u001b[0m\u001b[0;32m    365\u001b[0m         \u001b[0mself\u001b[0m\u001b[1;33m.\u001b[0m\u001b[0mtrials\u001b[0m\u001b[1;33m.\u001b[0m\u001b[0mrefresh\u001b[0m\u001b[1;33m(\u001b[0m\u001b[1;33m)\u001b[0m\u001b[1;33m\u001b[0m\u001b[1;33m\u001b[0m\u001b[0m\n\u001b[0;32m    366\u001b[0m         \u001b[1;32mreturn\u001b[0m \u001b[0mself\u001b[0m\u001b[1;33m\u001b[0m\u001b[1;33m\u001b[0m\u001b[0m\n",
      "\u001b[1;32mD:\\anaconda3\\lib\\site-packages\\hyperopt\\fmin.py\u001b[0m in \u001b[0;36mrun\u001b[1;34m(self, N, block_until_done)\u001b[0m\n\u001b[0;32m    298\u001b[0m                 \u001b[1;32melse\u001b[0m\u001b[1;33m:\u001b[0m\u001b[1;33m\u001b[0m\u001b[1;33m\u001b[0m\u001b[0m\n\u001b[0;32m    299\u001b[0m                     \u001b[1;31m# -- loop over trials and do the jobs directly\u001b[0m\u001b[1;33m\u001b[0m\u001b[1;33m\u001b[0m\u001b[1;33m\u001b[0m\u001b[0m\n\u001b[1;32m--> 300\u001b[1;33m                     \u001b[0mself\u001b[0m\u001b[1;33m.\u001b[0m\u001b[0mserial_evaluate\u001b[0m\u001b[1;33m(\u001b[0m\u001b[1;33m)\u001b[0m\u001b[1;33m\u001b[0m\u001b[1;33m\u001b[0m\u001b[0m\n\u001b[0m\u001b[0;32m    301\u001b[0m \u001b[1;33m\u001b[0m\u001b[0m\n\u001b[0;32m    302\u001b[0m                 \u001b[0mself\u001b[0m\u001b[1;33m.\u001b[0m\u001b[0mtrials\u001b[0m\u001b[1;33m.\u001b[0m\u001b[0mrefresh\u001b[0m\u001b[1;33m(\u001b[0m\u001b[1;33m)\u001b[0m\u001b[1;33m\u001b[0m\u001b[1;33m\u001b[0m\u001b[0m\n",
      "\u001b[1;32mD:\\anaconda3\\lib\\site-packages\\hyperopt\\fmin.py\u001b[0m in \u001b[0;36mserial_evaluate\u001b[1;34m(self, N)\u001b[0m\n\u001b[0;32m    176\u001b[0m                 \u001b[0mctrl\u001b[0m \u001b[1;33m=\u001b[0m \u001b[0mbase\u001b[0m\u001b[1;33m.\u001b[0m\u001b[0mCtrl\u001b[0m\u001b[1;33m(\u001b[0m\u001b[0mself\u001b[0m\u001b[1;33m.\u001b[0m\u001b[0mtrials\u001b[0m\u001b[1;33m,\u001b[0m \u001b[0mcurrent_trial\u001b[0m\u001b[1;33m=\u001b[0m\u001b[0mtrial\u001b[0m\u001b[1;33m)\u001b[0m\u001b[1;33m\u001b[0m\u001b[1;33m\u001b[0m\u001b[0m\n\u001b[0;32m    177\u001b[0m                 \u001b[1;32mtry\u001b[0m\u001b[1;33m:\u001b[0m\u001b[1;33m\u001b[0m\u001b[1;33m\u001b[0m\u001b[0m\n\u001b[1;32m--> 178\u001b[1;33m                     \u001b[0mresult\u001b[0m \u001b[1;33m=\u001b[0m \u001b[0mself\u001b[0m\u001b[1;33m.\u001b[0m\u001b[0mdomain\u001b[0m\u001b[1;33m.\u001b[0m\u001b[0mevaluate\u001b[0m\u001b[1;33m(\u001b[0m\u001b[0mspec\u001b[0m\u001b[1;33m,\u001b[0m \u001b[0mctrl\u001b[0m\u001b[1;33m)\u001b[0m\u001b[1;33m\u001b[0m\u001b[1;33m\u001b[0m\u001b[0m\n\u001b[0m\u001b[0;32m    179\u001b[0m                 \u001b[1;32mexcept\u001b[0m \u001b[0mException\u001b[0m \u001b[1;32mas\u001b[0m \u001b[0me\u001b[0m\u001b[1;33m:\u001b[0m\u001b[1;33m\u001b[0m\u001b[1;33m\u001b[0m\u001b[0m\n\u001b[0;32m    180\u001b[0m                     \u001b[0mlogger\u001b[0m\u001b[1;33m.\u001b[0m\u001b[0merror\u001b[0m\u001b[1;33m(\u001b[0m\u001b[1;34m\"job exception: %s\"\u001b[0m \u001b[1;33m%\u001b[0m \u001b[0mstr\u001b[0m\u001b[1;33m(\u001b[0m\u001b[0me\u001b[0m\u001b[1;33m)\u001b[0m\u001b[1;33m)\u001b[0m\u001b[1;33m\u001b[0m\u001b[1;33m\u001b[0m\u001b[0m\n",
      "\u001b[1;32mD:\\anaconda3\\lib\\site-packages\\hyperopt\\base.py\u001b[0m in \u001b[0;36mevaluate\u001b[1;34m(self, config, ctrl, attach_attachments)\u001b[0m\n\u001b[0;32m    890\u001b[0m                 \u001b[0mprint_node_on_error\u001b[0m\u001b[1;33m=\u001b[0m\u001b[0mself\u001b[0m\u001b[1;33m.\u001b[0m\u001b[0mrec_eval_print_node_on_error\u001b[0m\u001b[1;33m,\u001b[0m\u001b[1;33m\u001b[0m\u001b[1;33m\u001b[0m\u001b[0m\n\u001b[0;32m    891\u001b[0m             )\n\u001b[1;32m--> 892\u001b[1;33m             \u001b[0mrval\u001b[0m \u001b[1;33m=\u001b[0m \u001b[0mself\u001b[0m\u001b[1;33m.\u001b[0m\u001b[0mfn\u001b[0m\u001b[1;33m(\u001b[0m\u001b[0mpyll_rval\u001b[0m\u001b[1;33m)\u001b[0m\u001b[1;33m\u001b[0m\u001b[1;33m\u001b[0m\u001b[0m\n\u001b[0m\u001b[0;32m    893\u001b[0m \u001b[1;33m\u001b[0m\u001b[0m\n\u001b[0;32m    894\u001b[0m         \u001b[1;32mif\u001b[0m \u001b[0misinstance\u001b[0m\u001b[1;33m(\u001b[0m\u001b[0mrval\u001b[0m\u001b[1;33m,\u001b[0m \u001b[1;33m(\u001b[0m\u001b[0mfloat\u001b[0m\u001b[1;33m,\u001b[0m \u001b[0mint\u001b[0m\u001b[1;33m,\u001b[0m \u001b[0mnp\u001b[0m\u001b[1;33m.\u001b[0m\u001b[0mnumber\u001b[0m\u001b[1;33m)\u001b[0m\u001b[1;33m)\u001b[0m\u001b[1;33m:\u001b[0m\u001b[1;33m\u001b[0m\u001b[1;33m\u001b[0m\u001b[0m\n",
      "\u001b[1;32m<ipython-input-26-8060ecf00216>\u001b[0m in \u001b[0;36mhyperopt_objective\u001b[1;34m(params)\u001b[0m\n\u001b[0;32m     17\u001b[0m \u001b[1;33m\u001b[0m\u001b[0m\n\u001b[0;32m     18\u001b[0m     \u001b[1;31m#交叉验证结果，输出准确率\u001b[0m\u001b[1;33m\u001b[0m\u001b[1;33m\u001b[0m\u001b[1;33m\u001b[0m\u001b[0m\n\u001b[1;32m---> 19\u001b[1;33m     \u001b[0mclf\u001b[0m\u001b[1;33m.\u001b[0m\u001b[0mfit\u001b[0m\u001b[1;33m(\u001b[0m\u001b[0mX_train\u001b[0m\u001b[1;33m,\u001b[0m \u001b[0my_train\u001b[0m\u001b[1;33m)\u001b[0m\u001b[1;33m\u001b[0m\u001b[1;33m\u001b[0m\u001b[0m\n\u001b[0m\u001b[0;32m     20\u001b[0m     \u001b[0mscore\u001b[0m \u001b[1;33m=\u001b[0m \u001b[0mclf\u001b[0m\u001b[1;33m.\u001b[0m\u001b[0mscore\u001b[0m\u001b[1;33m(\u001b[0m\u001b[0mX_test\u001b[0m\u001b[1;33m,\u001b[0m \u001b[0my_test\u001b[0m\u001b[1;33m)\u001b[0m\u001b[1;33m\u001b[0m\u001b[1;33m\u001b[0m\u001b[0m\n\u001b[0;32m     21\u001b[0m \u001b[1;33m\u001b[0m\u001b[0m\n",
      "\u001b[1;32mD:\\anaconda3\\lib\\site-packages\\sklearn\\ensemble\\_forest.py\u001b[0m in \u001b[0;36mfit\u001b[1;34m(self, X, y, sample_weight)\u001b[0m\n\u001b[0;32m    471\u001b[0m             \u001b[1;31m# parallel_backend contexts set at a higher level,\u001b[0m\u001b[1;33m\u001b[0m\u001b[1;33m\u001b[0m\u001b[1;33m\u001b[0m\u001b[0m\n\u001b[0;32m    472\u001b[0m             \u001b[1;31m# since correctness does not rely on using threads.\u001b[0m\u001b[1;33m\u001b[0m\u001b[1;33m\u001b[0m\u001b[1;33m\u001b[0m\u001b[0m\n\u001b[1;32m--> 473\u001b[1;33m             trees = Parallel(\n\u001b[0m\u001b[0;32m    474\u001b[0m                 \u001b[0mn_jobs\u001b[0m\u001b[1;33m=\u001b[0m\u001b[0mself\u001b[0m\u001b[1;33m.\u001b[0m\u001b[0mn_jobs\u001b[0m\u001b[1;33m,\u001b[0m\u001b[1;33m\u001b[0m\u001b[1;33m\u001b[0m\u001b[0m\n\u001b[0;32m    475\u001b[0m                 \u001b[0mverbose\u001b[0m\u001b[1;33m=\u001b[0m\u001b[0mself\u001b[0m\u001b[1;33m.\u001b[0m\u001b[0mverbose\u001b[0m\u001b[1;33m,\u001b[0m\u001b[1;33m\u001b[0m\u001b[1;33m\u001b[0m\u001b[0m\n",
      "\u001b[1;32mD:\\anaconda3\\lib\\site-packages\\sklearn\\utils\\parallel.py\u001b[0m in \u001b[0;36m__call__\u001b[1;34m(self, iterable)\u001b[0m\n\u001b[0;32m     61\u001b[0m             \u001b[1;32mfor\u001b[0m \u001b[0mdelayed_func\u001b[0m\u001b[1;33m,\u001b[0m \u001b[0margs\u001b[0m\u001b[1;33m,\u001b[0m \u001b[0mkwargs\u001b[0m \u001b[1;32min\u001b[0m \u001b[0miterable\u001b[0m\u001b[1;33m\u001b[0m\u001b[1;33m\u001b[0m\u001b[0m\n\u001b[0;32m     62\u001b[0m         )\n\u001b[1;32m---> 63\u001b[1;33m         \u001b[1;32mreturn\u001b[0m \u001b[0msuper\u001b[0m\u001b[1;33m(\u001b[0m\u001b[1;33m)\u001b[0m\u001b[1;33m.\u001b[0m\u001b[0m__call__\u001b[0m\u001b[1;33m(\u001b[0m\u001b[0miterable_with_config\u001b[0m\u001b[1;33m)\u001b[0m\u001b[1;33m\u001b[0m\u001b[1;33m\u001b[0m\u001b[0m\n\u001b[0m\u001b[0;32m     64\u001b[0m \u001b[1;33m\u001b[0m\u001b[0m\n\u001b[0;32m     65\u001b[0m \u001b[1;33m\u001b[0m\u001b[0m\n",
      "\u001b[1;32mD:\\anaconda3\\lib\\site-packages\\joblib\\parallel.py\u001b[0m in \u001b[0;36m__call__\u001b[1;34m(self, iterable)\u001b[0m\n\u001b[0;32m   1096\u001b[0m \u001b[1;33m\u001b[0m\u001b[0m\n\u001b[0;32m   1097\u001b[0m             \u001b[1;32mwith\u001b[0m \u001b[0mself\u001b[0m\u001b[1;33m.\u001b[0m\u001b[0m_backend\u001b[0m\u001b[1;33m.\u001b[0m\u001b[0mretrieval_context\u001b[0m\u001b[1;33m(\u001b[0m\u001b[1;33m)\u001b[0m\u001b[1;33m:\u001b[0m\u001b[1;33m\u001b[0m\u001b[1;33m\u001b[0m\u001b[0m\n\u001b[1;32m-> 1098\u001b[1;33m                 \u001b[0mself\u001b[0m\u001b[1;33m.\u001b[0m\u001b[0mretrieve\u001b[0m\u001b[1;33m(\u001b[0m\u001b[1;33m)\u001b[0m\u001b[1;33m\u001b[0m\u001b[1;33m\u001b[0m\u001b[0m\n\u001b[0m\u001b[0;32m   1099\u001b[0m             \u001b[1;31m# Make sure that we get a last message telling us we are done\u001b[0m\u001b[1;33m\u001b[0m\u001b[1;33m\u001b[0m\u001b[1;33m\u001b[0m\u001b[0m\n\u001b[0;32m   1100\u001b[0m             \u001b[0melapsed_time\u001b[0m \u001b[1;33m=\u001b[0m \u001b[0mtime\u001b[0m\u001b[1;33m.\u001b[0m\u001b[0mtime\u001b[0m\u001b[1;33m(\u001b[0m\u001b[1;33m)\u001b[0m \u001b[1;33m-\u001b[0m \u001b[0mself\u001b[0m\u001b[1;33m.\u001b[0m\u001b[0m_start_time\u001b[0m\u001b[1;33m\u001b[0m\u001b[1;33m\u001b[0m\u001b[0m\n",
      "\u001b[1;32mD:\\anaconda3\\lib\\site-packages\\joblib\\parallel.py\u001b[0m in \u001b[0;36mretrieve\u001b[1;34m(self)\u001b[0m\n\u001b[0;32m    973\u001b[0m             \u001b[1;32mtry\u001b[0m\u001b[1;33m:\u001b[0m\u001b[1;33m\u001b[0m\u001b[1;33m\u001b[0m\u001b[0m\n\u001b[0;32m    974\u001b[0m                 \u001b[1;32mif\u001b[0m \u001b[0mgetattr\u001b[0m\u001b[1;33m(\u001b[0m\u001b[0mself\u001b[0m\u001b[1;33m.\u001b[0m\u001b[0m_backend\u001b[0m\u001b[1;33m,\u001b[0m \u001b[1;34m'supports_timeout'\u001b[0m\u001b[1;33m,\u001b[0m \u001b[1;32mFalse\u001b[0m\u001b[1;33m)\u001b[0m\u001b[1;33m:\u001b[0m\u001b[1;33m\u001b[0m\u001b[1;33m\u001b[0m\u001b[0m\n\u001b[1;32m--> 975\u001b[1;33m                     \u001b[0mself\u001b[0m\u001b[1;33m.\u001b[0m\u001b[0m_output\u001b[0m\u001b[1;33m.\u001b[0m\u001b[0mextend\u001b[0m\u001b[1;33m(\u001b[0m\u001b[0mjob\u001b[0m\u001b[1;33m.\u001b[0m\u001b[0mget\u001b[0m\u001b[1;33m(\u001b[0m\u001b[0mtimeout\u001b[0m\u001b[1;33m=\u001b[0m\u001b[0mself\u001b[0m\u001b[1;33m.\u001b[0m\u001b[0mtimeout\u001b[0m\u001b[1;33m)\u001b[0m\u001b[1;33m)\u001b[0m\u001b[1;33m\u001b[0m\u001b[1;33m\u001b[0m\u001b[0m\n\u001b[0m\u001b[0;32m    976\u001b[0m                 \u001b[1;32melse\u001b[0m\u001b[1;33m:\u001b[0m\u001b[1;33m\u001b[0m\u001b[1;33m\u001b[0m\u001b[0m\n\u001b[0;32m    977\u001b[0m                     \u001b[0mself\u001b[0m\u001b[1;33m.\u001b[0m\u001b[0m_output\u001b[0m\u001b[1;33m.\u001b[0m\u001b[0mextend\u001b[0m\u001b[1;33m(\u001b[0m\u001b[0mjob\u001b[0m\u001b[1;33m.\u001b[0m\u001b[0mget\u001b[0m\u001b[1;33m(\u001b[0m\u001b[1;33m)\u001b[0m\u001b[1;33m)\u001b[0m\u001b[1;33m\u001b[0m\u001b[1;33m\u001b[0m\u001b[0m\n",
      "\u001b[1;32mD:\\anaconda3\\lib\\multiprocessing\\pool.py\u001b[0m in \u001b[0;36mget\u001b[1;34m(self, timeout)\u001b[0m\n\u001b[0;32m    763\u001b[0m \u001b[1;33m\u001b[0m\u001b[0m\n\u001b[0;32m    764\u001b[0m     \u001b[1;32mdef\u001b[0m \u001b[0mget\u001b[0m\u001b[1;33m(\u001b[0m\u001b[0mself\u001b[0m\u001b[1;33m,\u001b[0m \u001b[0mtimeout\u001b[0m\u001b[1;33m=\u001b[0m\u001b[1;32mNone\u001b[0m\u001b[1;33m)\u001b[0m\u001b[1;33m:\u001b[0m\u001b[1;33m\u001b[0m\u001b[1;33m\u001b[0m\u001b[0m\n\u001b[1;32m--> 765\u001b[1;33m         \u001b[0mself\u001b[0m\u001b[1;33m.\u001b[0m\u001b[0mwait\u001b[0m\u001b[1;33m(\u001b[0m\u001b[0mtimeout\u001b[0m\u001b[1;33m)\u001b[0m\u001b[1;33m\u001b[0m\u001b[1;33m\u001b[0m\u001b[0m\n\u001b[0m\u001b[0;32m    766\u001b[0m         \u001b[1;32mif\u001b[0m \u001b[1;32mnot\u001b[0m \u001b[0mself\u001b[0m\u001b[1;33m.\u001b[0m\u001b[0mready\u001b[0m\u001b[1;33m(\u001b[0m\u001b[1;33m)\u001b[0m\u001b[1;33m:\u001b[0m\u001b[1;33m\u001b[0m\u001b[1;33m\u001b[0m\u001b[0m\n\u001b[0;32m    767\u001b[0m             \u001b[1;32mraise\u001b[0m \u001b[0mTimeoutError\u001b[0m\u001b[1;33m\u001b[0m\u001b[1;33m\u001b[0m\u001b[0m\n",
      "\u001b[1;32mD:\\anaconda3\\lib\\multiprocessing\\pool.py\u001b[0m in \u001b[0;36mwait\u001b[1;34m(self, timeout)\u001b[0m\n\u001b[0;32m    760\u001b[0m \u001b[1;33m\u001b[0m\u001b[0m\n\u001b[0;32m    761\u001b[0m     \u001b[1;32mdef\u001b[0m \u001b[0mwait\u001b[0m\u001b[1;33m(\u001b[0m\u001b[0mself\u001b[0m\u001b[1;33m,\u001b[0m \u001b[0mtimeout\u001b[0m\u001b[1;33m=\u001b[0m\u001b[1;32mNone\u001b[0m\u001b[1;33m)\u001b[0m\u001b[1;33m:\u001b[0m\u001b[1;33m\u001b[0m\u001b[1;33m\u001b[0m\u001b[0m\n\u001b[1;32m--> 762\u001b[1;33m         \u001b[0mself\u001b[0m\u001b[1;33m.\u001b[0m\u001b[0m_event\u001b[0m\u001b[1;33m.\u001b[0m\u001b[0mwait\u001b[0m\u001b[1;33m(\u001b[0m\u001b[0mtimeout\u001b[0m\u001b[1;33m)\u001b[0m\u001b[1;33m\u001b[0m\u001b[1;33m\u001b[0m\u001b[0m\n\u001b[0m\u001b[0;32m    763\u001b[0m \u001b[1;33m\u001b[0m\u001b[0m\n\u001b[0;32m    764\u001b[0m     \u001b[1;32mdef\u001b[0m \u001b[0mget\u001b[0m\u001b[1;33m(\u001b[0m\u001b[0mself\u001b[0m\u001b[1;33m,\u001b[0m \u001b[0mtimeout\u001b[0m\u001b[1;33m=\u001b[0m\u001b[1;32mNone\u001b[0m\u001b[1;33m)\u001b[0m\u001b[1;33m:\u001b[0m\u001b[1;33m\u001b[0m\u001b[1;33m\u001b[0m\u001b[0m\n",
      "\u001b[1;32mD:\\anaconda3\\lib\\threading.py\u001b[0m in \u001b[0;36mwait\u001b[1;34m(self, timeout)\u001b[0m\n\u001b[0;32m    556\u001b[0m             \u001b[0msignaled\u001b[0m \u001b[1;33m=\u001b[0m \u001b[0mself\u001b[0m\u001b[1;33m.\u001b[0m\u001b[0m_flag\u001b[0m\u001b[1;33m\u001b[0m\u001b[1;33m\u001b[0m\u001b[0m\n\u001b[0;32m    557\u001b[0m             \u001b[1;32mif\u001b[0m \u001b[1;32mnot\u001b[0m \u001b[0msignaled\u001b[0m\u001b[1;33m:\u001b[0m\u001b[1;33m\u001b[0m\u001b[1;33m\u001b[0m\u001b[0m\n\u001b[1;32m--> 558\u001b[1;33m                 \u001b[0msignaled\u001b[0m \u001b[1;33m=\u001b[0m \u001b[0mself\u001b[0m\u001b[1;33m.\u001b[0m\u001b[0m_cond\u001b[0m\u001b[1;33m.\u001b[0m\u001b[0mwait\u001b[0m\u001b[1;33m(\u001b[0m\u001b[0mtimeout\u001b[0m\u001b[1;33m)\u001b[0m\u001b[1;33m\u001b[0m\u001b[1;33m\u001b[0m\u001b[0m\n\u001b[0m\u001b[0;32m    559\u001b[0m             \u001b[1;32mreturn\u001b[0m \u001b[0msignaled\u001b[0m\u001b[1;33m\u001b[0m\u001b[1;33m\u001b[0m\u001b[0m\n\u001b[0;32m    560\u001b[0m \u001b[1;33m\u001b[0m\u001b[0m\n",
      "\u001b[1;32mD:\\anaconda3\\lib\\threading.py\u001b[0m in \u001b[0;36mwait\u001b[1;34m(self, timeout)\u001b[0m\n\u001b[0;32m    300\u001b[0m         \u001b[1;32mtry\u001b[0m\u001b[1;33m:\u001b[0m    \u001b[1;31m# restore state no matter what (e.g., KeyboardInterrupt)\u001b[0m\u001b[1;33m\u001b[0m\u001b[1;33m\u001b[0m\u001b[0m\n\u001b[0;32m    301\u001b[0m             \u001b[1;32mif\u001b[0m \u001b[0mtimeout\u001b[0m \u001b[1;32mis\u001b[0m \u001b[1;32mNone\u001b[0m\u001b[1;33m:\u001b[0m\u001b[1;33m\u001b[0m\u001b[1;33m\u001b[0m\u001b[0m\n\u001b[1;32m--> 302\u001b[1;33m                 \u001b[0mwaiter\u001b[0m\u001b[1;33m.\u001b[0m\u001b[0macquire\u001b[0m\u001b[1;33m(\u001b[0m\u001b[1;33m)\u001b[0m\u001b[1;33m\u001b[0m\u001b[1;33m\u001b[0m\u001b[0m\n\u001b[0m\u001b[0;32m    303\u001b[0m                 \u001b[0mgotit\u001b[0m \u001b[1;33m=\u001b[0m \u001b[1;32mTrue\u001b[0m\u001b[1;33m\u001b[0m\u001b[1;33m\u001b[0m\u001b[0m\n\u001b[0;32m    304\u001b[0m             \u001b[1;32melse\u001b[0m\u001b[1;33m:\u001b[0m\u001b[1;33m\u001b[0m\u001b[1;33m\u001b[0m\u001b[0m\n",
      "\u001b[1;31mKeyboardInterrupt\u001b[0m: "
     ]
    }
   ],
   "source": [
    "params_best = param_hyperopt(1500) "
   ]
  },
  {
   "cell_type": "code",
   "execution_count": 12,
   "id": "6515c68c",
   "metadata": {},
   "outputs": [
    {
     "data": {
      "text/plain": [
       "{'max_depth': 31.0,\n",
       " 'max_leaf_nodes': 3263.0,\n",
       " 'min_samples_leaf': 1.0,\n",
       " 'min_samples_split': 19.0,\n",
       " 'n_estimators': 484.0}"
      ]
     },
     "execution_count": 12,
     "metadata": {},
     "output_type": "execute_result"
    }
   ],
   "source": [
    "params_best"
   ]
  },
  {
   "cell_type": "code",
   "execution_count": null,
   "id": "e81e1ef2",
   "metadata": {},
   "outputs": [],
   "source": [
    "param_grid_simple = {'n_estimators': hp.quniform(\"n_estimators\",50,400,1)\n",
    "                     , 'max_depth': hp.quniform(\"max_depth\",10,31,1)\n",
    "                     , \"max_features\": hp.quniform(\"max_features\",50,2598,1)\n",
    "                     , \"min_samples_leaf\":hp.quniform(\"min_samples_leaf\",3,50,1)\n",
    "                     , \"min_samples_split\":hp.quniform(\"min_samples_split\",5,50,1)\n",
    "                     , \"max_leaf_nodes\":hp.quniform(\"max_leaf_nodes\",3000,3401,1)\n",
    "                     , \"max_samples\":hp.quniform(\"max_samples\",0.4,0.8,0.1)\n",
    "                     , 'random_state': hp.quniform(\"random_state\",0,1000,1)\n",
    "                    }"
   ]
  },
  {
   "cell_type": "code",
   "execution_count": 6,
   "id": "1dfb7088",
   "metadata": {},
   "outputs": [
    {
     "data": {
      "text/plain": [
       "(0.900110442999141, 0.954140075274096)"
      ]
     },
     "execution_count": 6,
     "metadata": {},
     "output_type": "execute_result"
    }
   ],
   "source": [
    "clf = RandomForestClassifier(random_state = 4405, \n",
    "                             n_jobs = 30, \n",
    "                             max_depth = 35,\n",
    "                             max_leaf_nodes = 3251,\n",
    "                             min_samples_leaf = 1,\n",
    "                             min_samples_split = 19,\n",
    "                             n_estimators = 501)\n",
    "clf.fit(X_train, y_train)\n",
    "clf.score(X_test, y_test), clf.score(X_train, y_train)"
   ]
  },
  {
   "cell_type": "code",
   "execution_count": 148,
   "id": "c0984875",
   "metadata": {},
   "outputs": [
    {
     "data": {
      "text/plain": [
       "['clf.joblib']"
      ]
     },
     "execution_count": 148,
     "metadata": {},
     "output_type": "execute_result"
    }
   ],
   "source": [
    "dump(clf, 'clf.joblib') "
   ]
  },
  {
   "cell_type": "code",
   "execution_count": 6,
   "id": "4cda49ac",
   "metadata": {},
   "outputs": [],
   "source": [
    "clf = load('clf.joblib') "
   ]
  },
  {
   "cell_type": "code",
   "execution_count": 8,
   "id": "16d87a71",
   "metadata": {},
   "outputs": [
    {
     "name": "stderr",
     "output_type": "stream",
     "text": [
      "100%|████████████████████████████████████████████████████████████████████████████████| 100/100 [15:18<00:00,  9.19s/it]"
     ]
    },
    {
     "name": "stdout",
     "output_type": "stream",
     "text": [
      "0.900110442999141\n",
      "1\n"
     ]
    },
    {
     "name": "stderr",
     "output_type": "stream",
     "text": [
      "\n"
     ]
    }
   ],
   "source": [
    "score = []\n",
    "for i in tqdm(np.arange(500, 600, 1)):\n",
    "    clf = RandomForestClassifier(random_state = 4405, n_jobs = 30, max_depth = 35,\n",
    "                                 max_leaf_nodes = 3251,\n",
    "                                 min_samples_leaf = 1,\n",
    "                                 min_samples_split = 19,\n",
    "                                 n_estimators = i)\n",
    "    clf.fit(X_train, y_train)\n",
    "    score.append(clf.score(X_test, y_test))\n",
    "print(max(score))\n",
    "print(np.argmax(score))"
   ]
  },
  {
   "cell_type": "code",
   "execution_count": 7,
   "id": "1b7fc3b0",
   "metadata": {},
   "outputs": [
    {
     "data": {
      "text/plain": [
       "0.9321064411837852"
      ]
     },
     "execution_count": 7,
     "metadata": {},
     "output_type": "execute_result"
    }
   ],
   "source": [
    "precision_score(y_test, clf.predict(X_test)) #精确度"
   ]
  },
  {
   "cell_type": "code",
   "execution_count": 8,
   "id": "42fe6806",
   "metadata": {},
   "outputs": [
    {
     "data": {
      "text/plain": [
       "0.8738633714152483"
      ]
     },
     "execution_count": 8,
     "metadata": {},
     "output_type": "execute_result"
    }
   ],
   "source": [
    "recall_score(y_test, clf.predict(X_test))"
   ]
  },
  {
   "cell_type": "code",
   "execution_count": 9,
   "id": "ed644eaf",
   "metadata": {},
   "outputs": [
    {
     "data": {
      "text/plain": [
       "0.9020457280385078"
      ]
     },
     "execution_count": 9,
     "metadata": {},
     "output_type": "execute_result"
    }
   ],
   "source": [
    "f1_score(y_test, clf.predict(X_test))"
   ]
  },
  {
   "cell_type": "code",
   "execution_count": 10,
   "id": "17188d3d",
   "metadata": {},
   "outputs": [
    {
     "data": {
      "text/plain": [
       "0.952721445510083"
      ]
     },
     "execution_count": 10,
     "metadata": {},
     "output_type": "execute_result"
    }
   ],
   "source": [
    "AUC(y_test, clf.predict_proba(X_test)[:, 1])"
   ]
  },
  {
   "cell_type": "code",
   "execution_count": 11,
   "id": "afaab050",
   "metadata": {},
   "outputs": [
    {
     "data": {
      "image/png": "[encoded data removed]",
      "text/plain": [
       "<Figure size 432x288 with 1 Axes>"
      ]
     },
     "metadata": {
      "needs_background": "light"
     },
     "output_type": "display_data"
    }
   ],
   "source": [
    "FPR, recall, thesholds = roc_curve(y_test, clf.predict_proba(X_test)[:, 1], pos_label = 1)\n",
    "plt.figure()\n",
    "plt.plot(FPR, recall, color='red',\n",
    "         label='ROC curve of class 1 (area = %0.4f)' % AUC(y_test, clf.predict_proba(X_test)[:, 1]))\n",
    "plt.plot([0, 1], [0, 1], color='black', linestyle='--')\n",
    "plt.xlim([-0.05, 1.05])\n",
    "plt.ylim([-0.05, 1.05])\n",
    "plt.xlabel('False Positive Rate')\n",
    "plt.ylabel('Recall')\n",
    "plt.title('ROC Curves for RF after derivation')\n",
    "plt.legend(loc=\"lower right\")\n",
    "plt.savefig(\"RF_after\",dpi=1000)\n",
    "plt.show()"
   ]
  },
  {
   "cell_type": "markdown",
   "id": "e0e53e10",
   "metadata": {},
   "source": [
    "## GBDT"
   ]
  },
  {
   "cell_type": "code",
   "execution_count": 75,
   "id": "c1f65d86",
   "metadata": {},
   "outputs": [],
   "source": [
    "clf_GBDT = GBC(random_state=1412)"
   ]
  },
  {
   "cell_type": "code",
   "execution_count": 76,
   "id": "f9c686f4",
   "metadata": {},
   "outputs": [
    {
     "data": {
      "text/html": [
       "<style>#sk-container-id-2 {color: black;background-color: white;}#sk-container-id-2 pre{padding: 0;}#sk-container-id-2 div.sk-toggleable {background-color: white;}#sk-container-id-2 label.sk-toggleable__label {cursor: pointer;display: block;width: 100%;margin-bottom: 0;padding: 0.3em;box-sizing: border-box;text-align: center;}#sk-container-id-2 label.sk-toggleable__label-arrow:before {content: \"▸\";float: left;margin-right: 0.25em;color: #696969;}#sk-container-id-2 label.sk-toggleable__label-arrow:hover:before {color: black;}#sk-container-id-2 div.sk-estimator:hover label.sk-toggleable__label-arrow:before {color: black;}#sk-container-id-2 div.sk-toggleable__content {max-height: 0;max-width: 0;overflow: hidden;text-align: left;background-color: #f0f8ff;}#sk-container-id-2 div.sk-toggleable__content pre {margin: 0.2em;color: black;border-radius: 0.25em;background-color: #f0f8ff;}#sk-container-id-2 input.sk-toggleable__control:checked~div.sk-toggleable__content {max-height: 200px;max-width: 100%;overflow: auto;}#sk-container-id-2 input.sk-toggleable__control:checked~label.sk-toggleable__label-arrow:before {content: \"▾\";}#sk-container-id-2 div.sk-estimator input.sk-toggleable__control:checked~label.sk-toggleable__label {background-color: #d4ebff;}#sk-container-id-2 div.sk-label input.sk-toggleable__control:checked~label.sk-toggleable__label {background-color: #d4ebff;}#sk-container-id-2 input.sk-hidden--visually {border: 0;clip: rect(1px 1px 1px 1px);clip: rect(1px, 1px, 1px, 1px);height: 1px;margin: -1px;overflow: hidden;padding: 0;position: absolute;width: 1px;}#sk-container-id-2 div.sk-estimator {font-family: monospace;background-color: #f0f8ff;border: 1px dotted black;border-radius: 0.25em;box-sizing: border-box;margin-bottom: 0.5em;}#sk-container-id-2 div.sk-estimator:hover {background-color: #d4ebff;}#sk-container-id-2 div.sk-parallel-item::after {content: \"\";width: 100%;border-bottom: 1px solid gray;flex-grow: 1;}#sk-container-id-2 div.sk-label:hover label.sk-toggleable__label {background-color: #d4ebff;}#sk-container-id-2 div.sk-serial::before {content: \"\";position: absolute;border-left: 1px solid gray;box-sizing: border-box;top: 0;bottom: 0;left: 50%;z-index: 0;}#sk-container-id-2 div.sk-serial {display: flex;flex-direction: column;align-items: center;background-color: white;padding-right: 0.2em;padding-left: 0.2em;position: relative;}#sk-container-id-2 div.sk-item {position: relative;z-index: 1;}#sk-container-id-2 div.sk-parallel {display: flex;align-items: stretch;justify-content: center;background-color: white;position: relative;}#sk-container-id-2 div.sk-item::before, #sk-container-id-2 div.sk-parallel-item::before {content: \"\";position: absolute;border-left: 1px solid gray;box-sizing: border-box;top: 0;bottom: 0;left: 50%;z-index: -1;}#sk-container-id-2 div.sk-parallel-item {display: flex;flex-direction: column;z-index: 1;position: relative;background-color: white;}#sk-container-id-2 div.sk-parallel-item:first-child::after {align-self: flex-end;width: 50%;}#sk-container-id-2 div.sk-parallel-item:last-child::after {align-self: flex-start;width: 50%;}#sk-container-id-2 div.sk-parallel-item:only-child::after {width: 0;}#sk-container-id-2 div.sk-dashed-wrapped {border: 1px dashed gray;margin: 0 0.4em 0.5em 0.4em;box-sizing: border-box;padding-bottom: 0.4em;background-color: white;}#sk-container-id-2 div.sk-label label {font-family: monospace;font-weight: bold;display: inline-block;line-height: 1.2em;}#sk-container-id-2 div.sk-label-container {text-align: center;}#sk-container-id-2 div.sk-container {/* jupyter's `normalize.less` sets `[hidden] { display: none; }` but bootstrap.min.css set `[hidden] { display: none !important; }` so we also need the `!important` here to be able to override the default hidden behavior on the sphinx rendered scikit-learn.org. See: https://github.com/scikit-learn/scikit-learn/issues/21755 */display: inline-block !important;position: relative;}#sk-container-id-2 div.sk-text-repr-fallback {display: none;}</style><div id=\"sk-container-id-2\" class=\"sk-top-container\"><div class=\"sk-text-repr-fallback\"><pre>GradientBoostingClassifier(random_state=1412)</pre><b>In a Jupyter environment, please rerun this cell to show the HTML representation or trust the notebook. <br />On GitHub, the HTML representation is unable to render, please try loading this page with nbviewer.org.</b></div><div class=\"sk-container\" hidden><div class=\"sk-item\"><div class=\"sk-estimator sk-toggleable\"><input class=\"sk-toggleable__control sk-hidden--visually\" id=\"sk-estimator-id-4\" type=\"checkbox\" checked><label for=\"sk-estimator-id-4\" class=\"sk-toggleable__label sk-toggleable__label-arrow\">GradientBoostingClassifier</label><div class=\"sk-toggleable__content\"><pre>GradientBoostingClassifier(random_state=1412)</pre></div></div></div></div></div>"
      ],
      "text/plain": [
       "GradientBoostingClassifier(random_state=1412)"
      ]
     },
     "execution_count": 76,
     "metadata": {},
     "output_type": "execute_result"
    }
   ],
   "source": [
    "clf_GBDT.fit(X_train, y_train)"
   ]
  },
  {
   "cell_type": "code",
   "execution_count": 77,
   "id": "a683ea82",
   "metadata": {},
   "outputs": [
    {
     "data": {
      "text/plain": [
       "0.8855074242238311"
      ]
     },
     "execution_count": 77,
     "metadata": {},
     "output_type": "execute_result"
    }
   ],
   "source": [
    "clf_GBDT.score(X_test, y_test)"
   ]
  },
  {
   "cell_type": "code",
   "execution_count": 82,
   "id": "050ed7d0",
   "metadata": {},
   "outputs": [],
   "source": [
    "param_grid_simple = {'n_estimators': hp.quniform(\"n_estimators\",25,200,25)\n",
    "                  ,\"lr\": hp.quniform(\"learning_rate\",0.05,2.05,0.05)\n",
    "                  ,\"max_features\": hp.choice(\"max_features\",[\"log2\",\"sqrt\",100,1000,2000])\n",
    "                 }"
   ]
  },
  {
   "cell_type": "code",
   "execution_count": 83,
   "id": "b2df714f",
   "metadata": {},
   "outputs": [],
   "source": [
    "def hyperopt_objective(params):\n",
    "    clf_GBDT = GBC(n_estimators = int(params[\"n_estimators\"])\n",
    "              ,learning_rate = params[\"lr\"]\n",
    "              ,max_features = params[\"max_features\"]\n",
    "              ,init = clf\n",
    "              ,random_state=1412\n",
    "              ,verbose=False)\n",
    "    clf_GBDT.fit(X_train, y_train)\n",
    "    score = clf_GBDT.score(X_test, y_test)\n",
    "    return -score"
   ]
  },
  {
   "cell_type": "code",
   "execution_count": 84,
   "id": "ae2de189",
   "metadata": {},
   "outputs": [],
   "source": [
    "# 定义优化函数\n",
    "def param_hyperopt(max_evals):\n",
    "    #定义代理模型\n",
    "    params_best = fmin(fn = hyperopt_objective #目标函数\n",
    "                       , space = param_grid_simple #参数空间\n",
    "                       , algo = tpe.suggest \n",
    "                       , max_evals = max_evals #允许的迭代次数\n",
    "                      )\n",
    "    return params_best"
   ]
  },
  {
   "cell_type": "code",
   "execution_count": 85,
   "id": "50080269",
   "metadata": {},
   "outputs": [
    {
     "name": "stdout",
     "output_type": "stream",
     "text": [
      "100%|████████████████████████████████████████████| 100/100 [1:55:29<00:00, 69.29s/trial, best loss: -0.900846729660081]\n"
     ]
    }
   ],
   "source": [
    "params_best = param_hyperopt(100)"
   ]
  },
  {
   "cell_type": "code",
   "execution_count": 86,
   "id": "906cea2c",
   "metadata": {},
   "outputs": [
    {
     "data": {
      "text/plain": [
       "{'learning_rate': 0.1, 'max_features': 4, 'n_estimators': 75.0}"
      ]
     },
     "execution_count": 86,
     "metadata": {},
     "output_type": "execute_result"
    }
   ],
   "source": [
    "params_best"
   ]
  },
  {
   "cell_type": "code",
   "execution_count": 29,
   "id": "cdb7beb7",
   "metadata": {},
   "outputs": [
    {
     "data": {
      "text/plain": [
       "(0.901460301877531, 0.9568401243658976)"
      ]
     },
     "execution_count": 29,
     "metadata": {},
     "output_type": "execute_result"
    }
   ],
   "source": [
    "clf_GBDT = GBC(n_estimators = 75\n",
    "              ,learning_rate = 0.1\n",
    "              ,max_features = 2000\n",
    "              ,init = clf\n",
    "              ,random_state=1413\n",
    "              ,verbose=False)\n",
    "clf_GBDT.fit(X_train, y_train)\n",
    "clf_GBDT.score(X_test, y_test), clf_GBDT.score(X_train, y_train)"
   ]
  },
  {
   "cell_type": "code",
   "execution_count": 30,
   "id": "df4dd3a1",
   "metadata": {},
   "outputs": [
    {
     "data": {
      "text/plain": [
       "['clf_GBDT.joblib']"
      ]
     },
     "execution_count": 30,
     "metadata": {},
     "output_type": "execute_result"
    }
   ],
   "source": [
    "dump(clf_GBDT, 'clf_GBDT.joblib') "
   ]
  },
  {
   "cell_type": "code",
   "execution_count": 12,
   "id": "f42b24c4",
   "metadata": {},
   "outputs": [
    {
     "data": {
      "text/plain": [
       "(0.901460301877531, 0.9568401243658976)"
      ]
     },
     "execution_count": 12,
     "metadata": {},
     "output_type": "execute_result"
    }
   ],
   "source": [
    "clf_GBDT = load('clf_GBDT.joblib') \n",
    "clf_GBDT.score(X_test, y_test), clf_GBDT.score(X_train, y_train)"
   ]
  },
  {
   "cell_type": "code",
   "execution_count": 13,
   "id": "560cc793",
   "metadata": {},
   "outputs": [
    {
     "data": {
      "text/plain": [
       "0.9331510934393639"
      ]
     },
     "execution_count": 13,
     "metadata": {},
     "output_type": "execute_result"
    }
   ],
   "source": [
    "precision_score(y_test, clf_GBDT.predict(X_test)) #精确度"
   ]
  },
  {
   "cell_type": "code",
   "execution_count": 14,
   "id": "f827ff22",
   "metadata": {},
   "outputs": [
    {
     "data": {
      "text/plain": [
       "0.875495453485661"
      ]
     },
     "execution_count": 14,
     "metadata": {},
     "output_type": "execute_result"
    }
   ],
   "source": [
    "recall_score(y_test, clf_GBDT.predict(X_test))"
   ]
  },
  {
   "cell_type": "code",
   "execution_count": 15,
   "id": "25bf2618",
   "metadata": {},
   "outputs": [
    {
     "data": {
      "text/plain": [
       "0.9034043065078794"
      ]
     },
     "execution_count": 15,
     "metadata": {},
     "output_type": "execute_result"
    }
   ],
   "source": [
    "f1_score(y_test, clf_GBDT.predict(X_test))"
   ]
  },
  {
   "cell_type": "code",
   "execution_count": 16,
   "id": "053911f9",
   "metadata": {},
   "outputs": [
    {
     "data": {
      "text/plain": [
       "0.9538254868158937"
      ]
     },
     "execution_count": 16,
     "metadata": {},
     "output_type": "execute_result"
    }
   ],
   "source": [
    "AUC(y_test, clf_GBDT.predict_proba(X_test)[:, 1])"
   ]
  },
  {
   "cell_type": "code",
   "execution_count": 17,
   "id": "93b95d13",
   "metadata": {},
   "outputs": [
    {
     "data": {
      "image/png": "[encoded data removed]",
      "text/plain": [
       "<Figure size 432x288 with 1 Axes>"
      ]
     },
     "metadata": {
      "needs_background": "light"
     },
     "output_type": "display_data"
    }
   ],
   "source": [
    "FPR, recall, thesholds = roc_curve(y_test, clf_GBDT.predict_proba(X_test)[:, 1], pos_label = 1)\n",
    "plt.figure()\n",
    "plt.plot(FPR, recall, color='red',\n",
    "         label='ROC curve of class 1 (area = %0.4f)' % AUC(y_test, clf_GBDT.predict_proba(X_test)[:, 1]))\n",
    "plt.plot([0, 1], [0, 1], color='black', linestyle='--')\n",
    "plt.xlim([-0.05, 1.05])\n",
    "plt.ylim([-0.05, 1.05])\n",
    "plt.xlabel('False Positive Rate')\n",
    "plt.ylabel('Recall')\n",
    "plt.title('ROC Curves for GBDT after derivation')\n",
    "plt.legend(loc=\"lower right\")\n",
    "plt.savefig(\"GBDT_after\",dpi=1000)\n",
    "plt.show()"
   ]
  },
  {
   "cell_type": "markdown",
   "id": "0177b258",
   "metadata": {},
   "source": [
    "## XGBoost"
   ]
  },
  {
   "cell_type": "code",
   "execution_count": 18,
   "id": "3fed4b92",
   "metadata": {},
   "outputs": [],
   "source": [
    "data_train = xgb.DMatrix(X_train, y_train)\n",
    "data_test = xgb.DMatrix(X_test, y_test)"
   ]
  },
  {
   "cell_type": "code",
   "execution_count": 99,
   "id": "6cd7440a",
   "metadata": {},
   "outputs": [
    {
     "name": "stdout",
     "output_type": "stream",
     "text": [
      "0.8934838630506811\n",
      "12\n"
     ]
    },
    {
     "data": {
      "image/png": "[encoded data removed]",
      "text/plain": [
       "<Figure size 1800x1200 with 1 Axes>"
      ]
     },
     "metadata": {
      "needs_background": "light"
     },
     "output_type": "display_data"
    }
   ],
   "source": [
    "score = []\n",
    "for i in np.arange(0, 2, 0.1):\n",
    "    params1 = {\"seed\":1, \"objective\":\"binary:logistic\"\n",
    "               ,\"eval_metric\":\"logloss\" #二分类交叉熵损失\n",
    "               ,\"gamma\": i\n",
    "              }\n",
    "    clf_xgb = xgb.train(params1, data_train, num_boost_round=100)\n",
    "    y_pred = clf_xgb.predict(data_test)\n",
    "    score.append(accuracy_score(y_test, (y_pred > 0.5).astype(int)))\n",
    "\n",
    "plt.figure(dpi = 300)\n",
    "plt.plot(list(np.arange(0, 2, 0.1)), score)\n",
    "print(max(score))\n",
    "print(np.argmax(score))"
   ]
  },
  {
   "cell_type": "code",
   "execution_count": 92,
   "id": "32ba6c83",
   "metadata": {},
   "outputs": [],
   "source": [
    "y_pred = clf_xgb.predict(data_test)"
   ]
  },
  {
   "cell_type": "code",
   "execution_count": 97,
   "id": "a56a54e8",
   "metadata": {},
   "outputs": [
    {
     "data": {
      "text/plain": [
       "0.8896797153024911"
      ]
     },
     "execution_count": 97,
     "metadata": {},
     "output_type": "execute_result"
    }
   ],
   "source": [
    "accuracy_score(y_test, (y_pred > 0.5).astype(int))"
   ]
  },
  {
   "cell_type": "code",
   "execution_count": null,
   "id": "73263ac0",
   "metadata": {},
   "outputs": [],
   "source": [
    "score.append(clf.score(X_test, y_test))\n",
    "print(max(score))\n",
    "print(np.argmax(score))"
   ]
  },
  {
   "cell_type": "code",
   "execution_count": 101,
   "id": "915d4f5a",
   "metadata": {},
   "outputs": [
    {
     "data": {
      "text/plain": [
       "0.8934838630506811"
      ]
     },
     "execution_count": 101,
     "metadata": {},
     "output_type": "execute_result"
    }
   ],
   "source": [
    " params1 = {\"seed\":1, \"objective\":\"binary:logistic\"\n",
    "               ,\"eval_metric\":\"logloss\" #二分类交叉熵损失\n",
    "               ,\"gamma\": 1.2\n",
    "              }\n",
    "clf_xgb = xgb.train(params1, data_train, num_boost_round=100)\n",
    "y_pred = clf_xgb.predict(data_test)\n",
    "accuracy_score(y_test, (y_pred > 0.5).astype(int))"
   ]
  },
  {
   "cell_type": "code",
   "execution_count": 132,
   "id": "576b0501",
   "metadata": {},
   "outputs": [],
   "source": [
    "param_grid_simple = {'num_boost_round': hp.quniform(\"num_boost_round\",70,400,10)\n",
    "                     ,\"eta\": hp.quniform(\"eta\",0.05,3.05,0.05)\n",
    "                     ,\"gamma\":hp.quniform(\"gamma\",0, 3.1, 0.05)\n",
    "                    }"
   ]
  },
  {
   "cell_type": "code",
   "execution_count": 133,
   "id": "a555ed45",
   "metadata": {},
   "outputs": [],
   "source": [
    "def hyperopt_objective(params):\n",
    "    paramsforxgb = {\"eta\":params[\"eta\"]\n",
    "                    ,\"gamma\":params[\"gamma\"]\n",
    "                    ,\"objective\":\"binary:logistic\"\n",
    "                    ,\"nthread\":30\n",
    "                    ,\"verbosity\":0\n",
    "                    ,\"seed\":1412}\n",
    "    clf_xgb = xgb.train(paramsforxgb, data_train, num_boost_round = int(params[\"num_boost_round\"]))\n",
    "    y_pred = clf_xgb.predict(data_test)\n",
    "    score = accuracy_score(y_test, (y_pred > 0.5).astype(int))\n",
    "    return -score"
   ]
  },
  {
   "cell_type": "code",
   "execution_count": 134,
   "id": "b73f76a8",
   "metadata": {},
   "outputs": [],
   "source": [
    "# 定义优化函数\n",
    "def param_hyperopt(max_evals):\n",
    "    #定义代理模型\n",
    "    params_best = fmin(fn = hyperopt_objective #目标函数\n",
    "                       , space = param_grid_simple #参数空间\n",
    "                       , algo = tpe.suggest \n",
    "                       , max_evals = max_evals #允许的迭代次数\n",
    "                      )\n",
    "    return params_best"
   ]
  },
  {
   "cell_type": "code",
   "execution_count": 136,
   "id": "48ec7ad4",
   "metadata": {},
   "outputs": [
    {
     "name": "stdout",
     "output_type": "stream",
     "text": [
      "100%|█████████████████████████████████████████| 1500/1500 [22:18:06<00:00, 53.52s/trial, best loss: -0.897165296355381]\n"
     ]
    }
   ],
   "source": [
    "params_best = param_hyperopt(1500)"
   ]
  },
  {
   "cell_type": "code",
   "execution_count": 137,
   "id": "f4ba3e50",
   "metadata": {},
   "outputs": [
    {
     "data": {
      "text/plain": [
       "{'eta': 0.05, 'gamma': 3.0500000000000003, 'num_boost_round': 390.0}"
      ]
     },
     "execution_count": 137,
     "metadata": {},
     "output_type": "execute_result"
    }
   ],
   "source": [
    "params_best"
   ]
  },
  {
   "cell_type": "code",
   "execution_count": 146,
   "id": "b90a9ab6",
   "metadata": {},
   "outputs": [
    {
     "data": {
      "text/plain": [
       "0.897165296355381"
      ]
     },
     "execution_count": 146,
     "metadata": {},
     "output_type": "execute_result"
    }
   ],
   "source": [
    "paramsforxgb = {\"eta\":0.05\n",
    "                    ,\"gamma\":3.05\n",
    "                    ,\"objective\":\"binary:logistic\"\n",
    "                    ,\"nthread\":30\n",
    "                    ,\"verbosity\":0\n",
    "                    ,\"seed\":1412}\n",
    "clf_xgb = xgb.train(paramsforxgb, data_train, num_boost_round = 380)\n",
    "y_pred = clf_xgb.predict(data_test)\n",
    "accuracy_score(y_test, (y_pred > 0.5).astype(int))"
   ]
  },
  {
   "cell_type": "code",
   "execution_count": 143,
   "id": "fdcc7fc6",
   "metadata": {},
   "outputs": [
    {
     "name": "stderr",
     "output_type": "stream",
     "text": [
      "100%|██████████████████████████████████████████████████████████████████████████████████| 10/10 [07:29<00:00, 44.90s/it]"
     ]
    },
    {
     "name": "stdout",
     "output_type": "stream",
     "text": [
      "0.897165296355381\n",
      "1\n"
     ]
    },
    {
     "name": "stderr",
     "output_type": "stream",
     "text": [
      "\n"
     ]
    }
   ],
   "source": [
    "score = []\n",
    "for i in tqdm(np.arange(3, 3.5, 0.05)):\n",
    "    paramsforxgb = {\"eta\":0.05\n",
    "                    ,\"gamma\":i\n",
    "                    ,\"objective\":\"binary:logistic\"\n",
    "                    ,\"nthread\":30\n",
    "                    ,\"verbosity\":0\n",
    "                    ,\"seed\":1412}\n",
    "    clf_xgb = xgb.train(paramsforxgb, data_train, num_boost_round = 380)\n",
    "    y_pred = clf_xgb.predict(data_test)\n",
    "    score.append(accuracy_score(y_test, (y_pred > 0.5).astype(int)))\n",
    "\n",
    "print(max(score))\n",
    "print(np.argmax(score))"
   ]
  },
  {
   "cell_type": "code",
   "execution_count": 41,
   "id": "abe661a4",
   "metadata": {},
   "outputs": [
    {
     "data": {
      "text/plain": [
       "0.897165296355381"
      ]
     },
     "execution_count": 41,
     "metadata": {},
     "output_type": "execute_result"
    }
   ],
   "source": [
    "paramsforxgb = {\"eta\":0.05\n",
    "                    ,\"gamma\":3.05\n",
    "                    ,\"objective\":\"binary:logistic\"\n",
    "                    ,\"nthread\":30\n",
    "                    ,\"verbosity\":0\n",
    "                    ,\"seed\":1412}\n",
    "clf_xgb = xgb.train(paramsforxgb, data_train, num_boost_round = 380)\n",
    "y_pred = clf_xgb.predict(data_test)\n",
    "accuracy_score(y_test, (y_pred > 0.5).astype(int))"
   ]
  },
  {
   "cell_type": "code",
   "execution_count": 62,
   "id": "e16a4ea1",
   "metadata": {},
   "outputs": [
    {
     "data": {
      "text/plain": [
       "['clf_xgb.joblib']"
      ]
     },
     "execution_count": 62,
     "metadata": {},
     "output_type": "execute_result"
    }
   ],
   "source": [
    "dump(clf_xgb, 'clf_xgb.joblib') "
   ]
  },
  {
   "cell_type": "code",
   "execution_count": 19,
   "id": "6522526c",
   "metadata": {},
   "outputs": [
    {
     "data": {
      "text/plain": [
       "0.897165296355381"
      ]
     },
     "execution_count": 19,
     "metadata": {},
     "output_type": "execute_result"
    }
   ],
   "source": [
    "clf_xgb = load('clf_xgb.joblib') \n",
    "y_pred = clf_xgb.predict(data_test)\n",
    "accuracy_score(y_test, (y_pred > 0.5).astype(int))"
   ]
  },
  {
   "cell_type": "code",
   "execution_count": 20,
   "id": "9eef39e5",
   "metadata": {},
   "outputs": [
    {
     "data": {
      "text/plain": [
       "0.9276332094175961"
      ]
     },
     "execution_count": 20,
     "metadata": {},
     "output_type": "execute_result"
    }
   ],
   "source": [
    "precision_score(y_test, (y_pred > 0.5).astype(int))"
   ]
  },
  {
   "cell_type": "code",
   "execution_count": 21,
   "id": "3afad722",
   "metadata": {},
   "outputs": [
    {
     "data": {
      "text/plain": [
       "0.8726975985078107"
      ]
     },
     "execution_count": 21,
     "metadata": {},
     "output_type": "execute_result"
    }
   ],
   "source": [
    "recall_score(y_test, (y_pred > 0.5).astype(int))"
   ]
  },
  {
   "cell_type": "code",
   "execution_count": 22,
   "id": "c9cc5218",
   "metadata": {},
   "outputs": [
    {
     "data": {
      "text/plain": [
       "0.8993272465160981"
      ]
     },
     "execution_count": 22,
     "metadata": {},
     "output_type": "execute_result"
    }
   ],
   "source": [
    "f1_score(y_test, (y_pred > 0.5).astype(int))"
   ]
  },
  {
   "cell_type": "code",
   "execution_count": 23,
   "id": "d75f3b78",
   "metadata": {},
   "outputs": [
    {
     "data": {
      "text/plain": [
       "0.9532501809062103"
      ]
     },
     "execution_count": 23,
     "metadata": {},
     "output_type": "execute_result"
    }
   ],
   "source": [
    "AUC(y_test, y_pred)"
   ]
  },
  {
   "cell_type": "code",
   "execution_count": 24,
   "id": "90ba0927",
   "metadata": {},
   "outputs": [
    {
     "data": {
      "image/png": "[encoded data removed]",
      "text/plain": [
       "<Figure size 432x288 with 1 Axes>"
      ]
     },
     "metadata": {
      "needs_background": "light"
     },
     "output_type": "display_data"
    }
   ],
   "source": [
    "FPR, recall, thesholds = roc_curve(y_test, y_pred, pos_label = 1)\n",
    "plt.figure()\n",
    "plt.plot(FPR, recall, color='red',\n",
    "         label='ROC curve of class 1 (area = %0.4f)' % AUC(y_test, y_pred))\n",
    "plt.plot([0, 1], [0, 1], color='black', linestyle='--')\n",
    "plt.xlim([-0.05, 1.05])\n",
    "plt.ylim([-0.05, 1.05])\n",
    "plt.xlabel('False Positive Rate')\n",
    "plt.ylabel('Recall')\n",
    "plt.title('ROC Curves for XGB after derivation')\n",
    "plt.legend(loc=\"lower right\")\n",
    "plt.savefig(\"XGB_after\",dpi=1000)\n",
    "plt.show()"
   ]
  },
  {
   "cell_type": "markdown",
   "id": "e08452e7",
   "metadata": {},
   "source": [
    "## 决策树"
   ]
  },
  {
   "cell_type": "code",
   "execution_count": 65,
   "id": "234e9470",
   "metadata": {},
   "outputs": [
    {
     "data": {
      "text/plain": [
       "(0.8232912013744018, 1.0)"
      ]
     },
     "execution_count": 65,
     "metadata": {},
     "output_type": "execute_result"
    }
   ],
   "source": [
    "clf_tree = DecisionTreeClassifier()\n",
    "clf_tree.fit(X_train, y_train)\n",
    "clf_tree.score(X_test, y_test), clf_tree.score(X_train, y_train)"
   ]
  },
  {
   "cell_type": "code",
   "execution_count": 109,
   "id": "e0314539",
   "metadata": {},
   "outputs": [],
   "source": [
    "param_grid_simple = {'max_depth': hp.quniform(\"max_depth\",130,150,1)\n",
    "                    ,\"min_samples_split\": hp.quniform(\"min_samples_split\",30,40,1)\n",
    "                    ,\"min_samples_leaf\":hp.quniform(\"min_samples_leaf\",45,55,1)\n",
    "                     }"
   ]
  },
  {
   "cell_type": "code",
   "execution_count": 110,
   "id": "444eaba5",
   "metadata": {},
   "outputs": [],
   "source": [
    "def hyperopt_objective(params):\n",
    "    clf_tree = DecisionTreeClassifier(max_depth = int(params[\"max_depth\"])\n",
    "              ,min_samples_split = int(params[\"min_samples_split\"])\n",
    "              ,criterion = \"entropy\"\n",
    "              ,max_features = \"sqrt\"\n",
    "              ,min_samples_leaf = int(params[\"min_samples_leaf\"])\n",
    "              ,random_state=1412\n",
    "              )\n",
    "    clf_tree.fit(X_train, y_train)\n",
    "    score = clf_tree.score(X_test, y_test)\n",
    "    return -score"
   ]
  },
  {
   "cell_type": "code",
   "execution_count": 111,
   "id": "79adf2c5",
   "metadata": {},
   "outputs": [],
   "source": [
    "# 定义优化函数\n",
    "def param_hyperopt(max_evals):\n",
    "    #定义代理模型\n",
    "    params_best = fmin(fn = hyperopt_objective #目标函数\n",
    "                       , space = param_grid_simple #参数空间\n",
    "                       , algo = tpe.suggest \n",
    "                       , max_evals = max_evals #允许的迭代次数\n",
    "                      )\n",
    "    return params_best"
   ]
  },
  {
   "cell_type": "code",
   "execution_count": 114,
   "id": "8234e5da",
   "metadata": {},
   "outputs": [
    {
     "name": "stdout",
     "output_type": "stream",
     "text": [
      "100%|█████████████████████████████████████████| 7000/7000 [1:31:33<00:00,  1.27trial/s, best loss: -0.8819487053626212]\n"
     ]
    }
   ],
   "source": [
    "params_best = param_hyperopt(7000)"
   ]
  },
  {
   "cell_type": "code",
   "execution_count": 115,
   "id": "c2f267a7",
   "metadata": {},
   "outputs": [
    {
     "data": {
      "text/plain": [
       "{'max_depth': 144.0, 'min_samples_leaf': 48.0, 'min_samples_split': 33.0}"
      ]
     },
     "execution_count": 115,
     "metadata": {},
     "output_type": "execute_result"
    }
   ],
   "source": [
    "params_best"
   ]
  },
  {
   "cell_type": "code",
   "execution_count": 138,
   "id": "8d252607",
   "metadata": {},
   "outputs": [
    {
     "name": "stderr",
     "output_type": "stream",
     "text": [
      "100%|██████████████████████████████████████████████████████████████████████████| 10000/10000 [1:28:33<00:00,  1.88it/s]"
     ]
    },
    {
     "name": "stdout",
     "output_type": "stream",
     "text": [
      "0.8869799975457111\n",
      "749\n"
     ]
    },
    {
     "name": "stderr",
     "output_type": "stream",
     "text": [
      "\n"
     ]
    }
   ],
   "source": [
    "score = []\n",
    "for i in tqdm(np.arange(30000, 40000, 1)):\n",
    "    clf_tree = DecisionTreeClassifier(max_depth = 144\n",
    "              ,min_samples_split = 33\n",
    "              ,criterion = \"entropy\"\n",
    "              ,max_features = \"sqrt\"\n",
    "              ,min_samples_leaf = 48\n",
    "              ,random_state= i\n",
    "              )\n",
    "    clf_tree.fit(X_train, y_train)\n",
    "    score.append(clf_tree.score(X_test, y_test))\n",
    "print(max(score))\n",
    "print(np.argmax(score))"
   ]
  },
  {
   "cell_type": "code",
   "execution_count": null,
   "id": "8da0fe42",
   "metadata": {},
   "outputs": [],
   "source": [
    "0.8824395631365812"
   ]
  },
  {
   "cell_type": "code",
   "execution_count": 37,
   "id": "81e6fd51",
   "metadata": {},
   "outputs": [
    {
     "data": {
      "text/plain": [
       "(0.8869799975457111, 0.8784977908689249)"
      ]
     },
     "execution_count": 37,
     "metadata": {},
     "output_type": "execute_result"
    }
   ],
   "source": [
    "clf_tree = DecisionTreeClassifier(max_depth = 144\n",
    "              ,min_samples_split = 33\n",
    "              ,criterion = \"entropy\"\n",
    "              ,max_features = \"sqrt\"\n",
    "              ,min_samples_leaf = 48\n",
    "              ,random_state= 30749\n",
    "              )\n",
    "clf_tree.fit(X_train, y_train)\n",
    "clf_tree.score(X_test, y_test), clf_tree.score(X_train, y_train)"
   ]
  },
  {
   "cell_type": "code",
   "execution_count": 26,
   "id": "1c5e75f7",
   "metadata": {},
   "outputs": [
    {
     "data": {
      "text/plain": [
       "0.9184890656063618"
      ]
     },
     "execution_count": 26,
     "metadata": {},
     "output_type": "execute_result"
    }
   ],
   "source": [
    "precision_score(y_test, clf_tree.predict(X_test)) #精确度"
   ]
  },
  {
   "cell_type": "code",
   "execution_count": 27,
   "id": "7a5b026a",
   "metadata": {},
   "outputs": [
    {
     "data": {
      "text/plain": [
       "0.861739333177897"
      ]
     },
     "execution_count": 27,
     "metadata": {},
     "output_type": "execute_result"
    }
   ],
   "source": [
    "recall_score(y_test, clf_tree.predict(X_test))"
   ]
  },
  {
   "cell_type": "code",
   "execution_count": 28,
   "id": "0457f30c",
   "metadata": {},
   "outputs": [
    {
     "data": {
      "text/plain": [
       "0.8892096715987009"
      ]
     },
     "execution_count": 28,
     "metadata": {},
     "output_type": "execute_result"
    }
   ],
   "source": [
    "f1_score(y_test, clf_tree.predict(X_test))"
   ]
  },
  {
   "cell_type": "code",
   "execution_count": 29,
   "id": "be9c8ed6",
   "metadata": {},
   "outputs": [
    {
     "data": {
      "text/plain": [
       "0.9403847292205508"
      ]
     },
     "execution_count": 29,
     "metadata": {},
     "output_type": "execute_result"
    }
   ],
   "source": [
    "AUC(y_test, clf_tree.predict_proba(X_test)[:, 1])"
   ]
  },
  {
   "cell_type": "code",
   "execution_count": 30,
   "id": "763d997a",
   "metadata": {},
   "outputs": [
    {
     "data": {
      "image/png": "[encoded data removed]",
      "text/plain": [
       "<Figure size 432x288 with 1 Axes>"
      ]
     },
     "metadata": {
      "needs_background": "light"
     },
     "output_type": "display_data"
    }
   ],
   "source": [
    "FPR, recall, thesholds = roc_curve(y_test, clf_tree.predict_proba(X_test)[:, 1], pos_label = 1)\n",
    "plt.figure()\n",
    "plt.plot(FPR, recall, color='red',\n",
    "         label='ROC curve of class 1 (area = %0.4f)' % AUC(y_test, clf_tree.predict_proba(X_test)[:, 1]))\n",
    "plt.plot([0, 1], [0, 1], color='black', linestyle='--')\n",
    "plt.xlim([-0.05, 1.05])\n",
    "plt.ylim([-0.05, 1.05])\n",
    "plt.xlabel('False Positive Rate')\n",
    "plt.ylabel('Recall')\n",
    "plt.title('ROC Curves for DT after derivation')\n",
    "plt.legend(loc=\"lower right\")\n",
    "plt.savefig(\"DT_after\",dpi=1000)\n",
    "plt.show()"
   ]
  },
  {
   "cell_type": "code",
   "execution_count": 43,
   "id": "5efdd343",
   "metadata": {},
   "outputs": [
    {
     "data": {
      "text/plain": [
       "['clf_tree.joblib']"
      ]
     },
     "execution_count": 43,
     "metadata": {},
     "output_type": "execute_result"
    }
   ],
   "source": [
    "dump(clf_tree, 'clf_tree.joblib') "
   ]
  },
  {
   "cell_type": "code",
   "execution_count": 25,
   "id": "aa80ca04",
   "metadata": {},
   "outputs": [
    {
     "data": {
      "text/plain": [
       "(0.8869799975457111, 0.8784977908689249)"
      ]
     },
     "execution_count": 25,
     "metadata": {},
     "output_type": "execute_result"
    }
   ],
   "source": [
    "clf_tree = load('clf_tree.joblib') \n",
    "clf_tree.score(X_test, y_test), clf_tree.score(X_train, y_train)"
   ]
  },
  {
   "cell_type": "markdown",
   "id": "8887aaf9",
   "metadata": {},
   "source": [
    "## LGBM"
   ]
  },
  {
   "cell_type": "code",
   "execution_count": 146,
   "id": "1076ffbf",
   "metadata": {},
   "outputs": [
    {
     "name": "stdout",
     "output_type": "stream",
     "text": [
      "[LightGBM] [Info] Number of positive: 12919, number of negative: 11525\n",
      "[LightGBM] [Warning] Auto-choosing col-wise multi-threading, the overhead of testing was 0.180138 seconds.\n",
      "You can set `force_col_wise=true` to remove the overhead.\n",
      "[LightGBM] [Info] Total Bins 292933\n",
      "[LightGBM] [Info] Number of data points in the train set: 24444, number of used features: 2494\n",
      "[LightGBM] [Info] [binary:BoostFromScore]: pavg=0.528514 -> initscore=0.114181\n",
      "[LightGBM] [Info] Start training from score 0.114181\n"
     ]
    },
    {
     "data": {
      "text/plain": [
       "0.8916431463983311"
      ]
     },
     "execution_count": 146,
     "metadata": {},
     "output_type": "execute_result"
    }
   ],
   "source": [
    "gbm = LGBMClassifier()\n",
    "gbm.fit(X_train, y_train)\n",
    "gbm.score(X_test, y_test)"
   ]
  },
  {
   "cell_type": "code",
   "execution_count": 25,
   "id": "f5e34823",
   "metadata": {},
   "outputs": [],
   "source": [
    "param_grid_simple = {'n_estimators': hp.quniform(\"n_estimators\",50,200,10)\n",
    "                  ,\"learning_rate\": hp.quniform(\"learning_rate\",0.05,0.15,0.001)\n",
    "                  ,\"max_features\": hp.choice(\"max_features\",[\"log2\",\"sqrt\",1000,2000,2598])\n",
    "                  ,\"colsample_bytree\":hp.quniform(\"colsample_bytree\",0.4,0.6,0.01)\n",
    "                  ,\"max_depth\":hp.quniform(\"max_depth\",100,200,10)\n",
    "                  ,\"min_child_samples\":hp.quniform(\"min_child_samples\",20,40,5)\n",
    "                  ,\"num_leaves\":hp.quniform(\"num_leaves\",120,200,10)\n",
    "                 }"
   ]
  },
  {
   "cell_type": "code",
   "execution_count": 26,
   "id": "314ce8f0",
   "metadata": {},
   "outputs": [],
   "source": [
    "def hyperopt_objective(params):\n",
    "    clf_lgbm = LGBMClassifier(n_estimators = int(params[\"n_estimators\"])\n",
    "                             ,learning_rate = params[\"learning_rate\"]\n",
    "                             ,max_features = params[\"max_features\"]\n",
    "                             ,colsample_bytree = params[\"colsample_bytree\"]\n",
    "                             ,max_depth = int(params[\"max_depth\"])\n",
    "                             ,min_child_samples = int(params[\"min_child_samples\"])\n",
    "                             ,n_jobs = 30\n",
    "                             ,random_state = 1412\n",
    "                             ,num_leaves = int(params[\"num_leaves\"])\n",
    "                              )\n",
    "    clf_lgbm.fit(X_train, y_train)\n",
    "    score = clf_lgbm.score(X_test, y_test)\n",
    "    return -score"
   ]
  },
  {
   "cell_type": "code",
   "execution_count": 27,
   "id": "9adff3aa",
   "metadata": {},
   "outputs": [],
   "source": [
    "# 定义优化函数\n",
    "def param_hyperopt(max_evals):\n",
    "    #定义代理模型\n",
    "    params_best = fmin(fn = hyperopt_objective #目标函数\n",
    "                       , space = param_grid_simple #参数空间\n",
    "                       , algo = tpe.suggest \n",
    "                       , max_evals = max_evals #允许的迭代次数\n",
    "                      )\n",
    "    return params_best"
   ]
  },
  {
   "cell_type": "code",
   "execution_count": 28,
   "id": "3d530e25",
   "metadata": {
    "scrolled": true
   },
   "outputs": [
    {
     "name": "stdout",
     "output_type": "stream",
     "text": [
      "[LightGBM] [Warning] Unknown parameter: max_features                                                                   \n",
      "[LightGBM] [Warning] Unknown parameter: max_features                                                                   \n",
      "[LightGBM] [Info] Number of positive: 12919, number of negative: 11525                                                 \n",
      "[LightGBM] [Warning] Auto-choosing col-wise multi-threading, the overhead of testing was 0.157553 seconds.             \n",
      "You can set `force_col_wise=true` to remove the overhead.\n",
      "[LightGBM] [Info] Total Bins 292911                                                                                    \n",
      "[LightGBM] [Info] Number of data points in the train set: 24444, number of used features: 2491                         \n",
      "[LightGBM] [Info] [binary:BoostFromScore]: pavg=0.528514 -> initscore=0.114181                                         \n",
      "[LightGBM] [Info] Start training from score 0.114181                                                                   \n",
      "[LightGBM] [Warning] Unknown parameter: max_features                                                                   \n",
      "[LightGBM] [Warning] Unknown parameter: max_features                                                                   \n",
      "[LightGBM] [Warning] Unknown parameter: max_features                                                                   \n",
      "[LightGBM] [Info] Number of positive: 12919, number of negative: 11525                                                 \n",
      "[LightGBM] [Warning] Auto-choosing col-wise multi-threading, the overhead of testing was 0.200307 seconds.             \n",
      "You can set `force_col_wise=true` to remove the overhead.\n",
      "[LightGBM] [Info] Total Bins 292911                                                                                    \n",
      "[LightGBM] [Info] Number of data points in the train set: 24444, number of used features: 2491                         \n",
      "[LightGBM] [Info] [binary:BoostFromScore]: pavg=0.528514 -> initscore=0.114181                                         \n",
      "[LightGBM] [Info] Start training from score 0.114181                                                                   \n",
      "[LightGBM] [Warning] Unknown parameter: max_features                                                                   \n",
      "[LightGBM] [Warning] Unknown parameter: max_features                                                                   \n",
      "[LightGBM] [Warning] Unknown parameter: max_features                                                                   \n",
      "[LightGBM] [Info] Number of positive: 12919, number of negative: 11525                                                 \n",
      "[LightGBM] [Warning] Auto-choosing col-wise multi-threading, the overhead of testing was 0.164291 seconds.             \n",
      "You can set `force_col_wise=true` to remove the overhead.\n",
      "[LightGBM] [Info] Total Bins 292911                                                                                    \n",
      "[LightGBM] [Info] Number of data points in the train set: 24444, number of used features: 2491                         \n",
      "[LightGBM] [Info] [binary:BoostFromScore]: pavg=0.528514 -> initscore=0.114181                                         \n",
      "[LightGBM] [Info] Start training from score 0.114181                                                                   \n",
      "[LightGBM] [Warning] Unknown parameter: max_features                                                                   \n",
      "[LightGBM] [Warning] Unknown parameter: max_features                                                                   \n",
      "[LightGBM] [Warning] Unknown parameter: max_features                                                                   \n",
      "[LightGBM] [Info] Number of positive: 12919, number of negative: 11525                                                 \n",
      "[LightGBM] [Warning] Auto-choosing col-wise multi-threading, the overhead of testing was 0.165055 seconds.             \n",
      "You can set `force_col_wise=true` to remove the overhead.\n",
      "[LightGBM] [Info] Total Bins 292892                                                                                    \n",
      "[LightGBM] [Info] Number of data points in the train set: 24444, number of used features: 2488                         \n",
      "[LightGBM] [Info] [binary:BoostFromScore]: pavg=0.528514 -> initscore=0.114181                                         \n",
      "[LightGBM] [Info] Start training from score 0.114181                                                                   \n",
      "[LightGBM] [Warning] Unknown parameter: max_features                                                                   \n",
      "[LightGBM] [Warning] Unknown parameter: max_features                                                                   \n",
      "[LightGBM] [Warning] Unknown parameter: max_features                                                                   \n",
      "[LightGBM] [Info] Number of positive: 12919, number of negative: 11525                                                 \n",
      "[LightGBM] [Warning] Auto-choosing col-wise multi-threading, the overhead of testing was 0.171745 seconds.             \n",
      "You can set `force_col_wise=true` to remove the overhead.\n",
      "[LightGBM] [Info] Total Bins 292911                                                                                    \n",
      "[LightGBM] [Info] Number of data points in the train set: 24444, number of used features: 2491                         \n",
      "[LightGBM] [Info] [binary:BoostFromScore]: pavg=0.528514 -> initscore=0.114181                                         \n",
      "[LightGBM] [Info] Start training from score 0.114181                                                                   \n",
      "[LightGBM] [Warning] Unknown parameter: max_features                                                                   \n",
      "[LightGBM] [Warning] Unknown parameter: max_features                                                                   \n",
      "[LightGBM] [Warning] Unknown parameter: max_features                                                                   \n",
      "[LightGBM] [Info] Number of positive: 12919, number of negative: 11525                                                 \n",
      "[LightGBM] [Warning] Auto-choosing col-wise multi-threading, the overhead of testing was 0.153303 seconds.             \n",
      "You can set `force_col_wise=true` to remove the overhead.\n",
      "[LightGBM] [Info] Total Bins 292911                                                                                    \n",
      "[LightGBM] [Info] Number of data points in the train set: 24444, number of used features: 2491                         \n",
      "[LightGBM] [Info] [binary:BoostFromScore]: pavg=0.528514 -> initscore=0.114181                                         \n",
      "[LightGBM] [Info] Start training from score 0.114181                                                                   \n",
      "[LightGBM] [Warning] Unknown parameter: max_features                                                                   \n",
      "[LightGBM] [Warning] Unknown parameter: max_features                                                                   \n",
      "[LightGBM] [Warning] Unknown parameter: max_features                                                                   \n",
      "[LightGBM] [Info] Number of positive: 12919, number of negative: 11525                                                 \n",
      "[LightGBM] [Warning] Auto-choosing col-wise multi-threading, the overhead of testing was 0.149479 seconds.             \n",
      "You can set `force_col_wise=true` to remove the overhead.\n",
      "[LightGBM] [Info] Total Bins 292892                                                                                    \n",
      "[LightGBM] [Info] Number of data points in the train set: 24444, number of used features: 2488                         \n",
      "[LightGBM] [Info] [binary:BoostFromScore]: pavg=0.528514 -> initscore=0.114181                                         \n",
      "[LightGBM] [Info] Start training from score 0.114181                                                                   \n",
      "[LightGBM] [Warning] Unknown parameter: max_features                                                                   \n",
      "[LightGBM] [Warning] Unknown parameter: max_features                                                                   \n",
      "[LightGBM] [Warning] Unknown parameter: max_features                                                                   \n",
      "[LightGBM] [Info] Number of positive: 12919, number of negative: 11525                                                 \n",
      "[LightGBM] [Warning] Auto-choosing col-wise multi-threading, the overhead of testing was 0.154516 seconds.             \n",
      "You can set `force_col_wise=true` to remove the overhead.\n",
      "[LightGBM] [Info] Total Bins 292911                                                                                    \n",
      "[LightGBM] [Info] Number of data points in the train set: 24444, number of used features: 2491                         \n",
      "[LightGBM] [Info] [binary:BoostFromScore]: pavg=0.528514 -> initscore=0.114181                                         \n",
      "[LightGBM] [Info] Start training from score 0.114181                                                                   \n",
      "[LightGBM] [Warning] Unknown parameter: max_features                                                                   \n",
      "[LightGBM] [Warning] Unknown parameter: max_features                                                                   \n",
      "[LightGBM] [Warning] Unknown parameter: max_features                                                                   \n",
      "[LightGBM] [Info] Number of positive: 12919, number of negative: 11525                                                 \n",
      "[LightGBM] [Warning] Auto-choosing col-wise multi-threading, the overhead of testing was 0.157517 seconds.             \n",
      "You can set `force_col_wise=true` to remove the overhead.\n",
      "[LightGBM] [Info] Total Bins 292911                                                                                    \n",
      "[LightGBM] [Info] Number of data points in the train set: 24444, number of used features: 2491                         \n",
      "[LightGBM] [Info] [binary:BoostFromScore]: pavg=0.528514 -> initscore=0.114181                                         \n",
      "[LightGBM] [Info] Start training from score 0.114181                                                                   \n",
      "[LightGBM] [Warning] Unknown parameter: max_features                                                                   \n",
      "[LightGBM] [Warning] Unknown parameter: max_features                                                                   \n",
      "[LightGBM] [Warning] Unknown parameter: max_features                                                                   \n",
      "[LightGBM] [Info] Number of positive: 12919, number of negative: 11525                                                 \n",
      "[LightGBM] [Warning] Auto-choosing col-wise multi-threading, the overhead of testing was 0.172175 seconds.             \n",
      "You can set `force_col_wise=true` to remove the overhead.\n",
      "[LightGBM] [Info] Total Bins 292892                                                                                    \n",
      "[LightGBM] [Info] Number of data points in the train set: 24444, number of used features: 2488                         \n",
      "[LightGBM] [Info] [binary:BoostFromScore]: pavg=0.528514 -> initscore=0.114181                                         \n",
      "[LightGBM] [Info] Start training from score 0.114181                                                                   \n",
      "[LightGBM] [Warning] Unknown parameter: max_features                                                                   \n",
      "[LightGBM] [Warning] Unknown parameter: max_features                                                                   \n",
      "[LightGBM] [Warning] Unknown parameter: max_features                                                                   \n",
      "[LightGBM] [Info] Number of positive: 12919, number of negative: 11525                                                 \n",
      "[LightGBM] [Warning] Auto-choosing col-wise multi-threading, the overhead of testing was 0.174451 seconds.             \n",
      "You can set `force_col_wise=true` to remove the overhead.\n",
      "[LightGBM] [Info] Total Bins 292933                                                                                    \n",
      "[LightGBM] [Info] Number of data points in the train set: 24444, number of used features: 2494                         \n",
      "[LightGBM] [Info] [binary:BoostFromScore]: pavg=0.528514 -> initscore=0.114181                                         \n",
      "[LightGBM] [Info] Start training from score 0.114181                                                                   \n",
      "[LightGBM] [Warning] Unknown parameter: max_features                                                                   \n",
      "[LightGBM] [Warning] Unknown parameter: max_features                                                                   \n",
      "[LightGBM] [Warning] Unknown parameter: max_features                                                                   \n",
      "[LightGBM] [Info] Number of positive: 12919, number of negative: 11525                                                 \n",
      "[LightGBM] [Warning] Auto-choosing col-wise multi-threading, the overhead of testing was 0.149206 seconds.             \n",
      "You can set `force_col_wise=true` to remove the overhead.\n",
      "[LightGBM] [Info] Total Bins 292911                                                                                    \n",
      "[LightGBM] [Info] Number of data points in the train set: 24444, number of used features: 2491                         \n",
      "[LightGBM] [Info] [binary:BoostFromScore]: pavg=0.528514 -> initscore=0.114181                                         \n",
      "[LightGBM] [Info] Start training from score 0.114181                                                                   \n",
      "[LightGBM] [Warning] Unknown parameter: max_features                                                                   \n",
      "[LightGBM] [Warning] Unknown parameter: max_features                                                                   \n",
      "[LightGBM] [Warning] Unknown parameter: max_features                                                                   \n",
      "[LightGBM] [Info] Number of positive: 12919, number of negative: 11525                                                 \n",
      "[LightGBM] [Warning] Auto-choosing col-wise multi-threading, the overhead of testing was 0.160322 seconds.             \n",
      "You can set `force_col_wise=true` to remove the overhead.\n",
      "[LightGBM] [Info] Total Bins 292933                                                                                    \n",
      "[LightGBM] [Info] Number of data points in the train set: 24444, number of used features: 2494                         \n",
      "[LightGBM] [Info] [binary:BoostFromScore]: pavg=0.528514 -> initscore=0.114181                                         \n",
      "[LightGBM] [Info] Start training from score 0.114181                                                                   \n",
      "[LightGBM] [Warning] Unknown parameter: max_features                                                                   \n",
      "[LightGBM] [Warning] Unknown parameter: max_features                                                                   \n",
      "[LightGBM] [Warning] Unknown parameter: max_features                                                                   \n",
      "[LightGBM] [Info] Number of positive: 12919, number of negative: 11525                                                 \n",
      "[LightGBM] [Warning] Auto-choosing col-wise multi-threading, the overhead of testing was 0.167347 seconds.             \n",
      "You can set `force_col_wise=true` to remove the overhead.\n",
      "[LightGBM] [Info] Total Bins 292911                                                                                    \n",
      "[LightGBM] [Info] Number of data points in the train set: 24444, number of used features: 2491                         \n",
      "[LightGBM] [Info] [binary:BoostFromScore]: pavg=0.528514 -> initscore=0.114181                                         \n",
      "[LightGBM] [Info] Start training from score 0.114181                                                                   \n",
      "[LightGBM] [Warning] Unknown parameter: max_features                                                                   \n",
      "[LightGBM] [Warning] Unknown parameter: max_features                                                                   \n",
      "[LightGBM] [Warning] Unknown parameter: max_features                                                                   \n",
      "[LightGBM] [Info] Number of positive: 12919, number of negative: 11525                                                 \n",
      "[LightGBM] [Warning] Auto-choosing col-wise multi-threading, the overhead of testing was 0.154715 seconds.             \n",
      "You can set `force_col_wise=true` to remove the overhead.\n",
      "[LightGBM] [Info] Total Bins 292911                                                                                    \n",
      "[LightGBM] [Info] Number of data points in the train set: 24444, number of used features: 2491                         \n",
      "[LightGBM] [Info] [binary:BoostFromScore]: pavg=0.528514 -> initscore=0.114181                                         \n",
      "[LightGBM] [Info] Start training from score 0.114181                                                                   \n",
      "[LightGBM] [Warning] Unknown parameter: max_features                                                                   \n",
      "[LightGBM] [Warning] Unknown parameter: max_features                                                                   \n",
      "[LightGBM] [Warning] Unknown parameter: max_features                                                                   \n",
      "[LightGBM] [Info] Number of positive: 12919, number of negative: 11525                                                 \n",
      "[LightGBM] [Warning] Auto-choosing col-wise multi-threading, the overhead of testing was 0.157122 seconds.             \n",
      "You can set `force_col_wise=true` to remove the overhead.\n",
      "[LightGBM] [Info] Total Bins 292892                                                                                    \n",
      "[LightGBM] [Info] Number of data points in the train set: 24444, number of used features: 2488                         \n",
      "[LightGBM] [Info] [binary:BoostFromScore]: pavg=0.528514 -> initscore=0.114181                                         \n",
      "[LightGBM] [Info] Start training from score 0.114181                                                                   \n",
      "[LightGBM] [Warning] Unknown parameter: max_features                                                                   \n",
      "[LightGBM] [Warning] Unknown parameter: max_features                                                                   \n",
      "[LightGBM] [Warning] Unknown parameter: max_features                                                                   \n",
      "[LightGBM] [Info] Number of positive: 12919, number of negative: 11525                                                 \n",
      "[LightGBM] [Warning] Auto-choosing col-wise multi-threading, the overhead of testing was 0.176912 seconds.             \n",
      "You can set `force_col_wise=true` to remove the overhead.\n",
      "[LightGBM] [Info] Total Bins 292911                                                                                    \n",
      "[LightGBM] [Info] Number of data points in the train set: 24444, number of used features: 2491                         \n",
      "[LightGBM] [Info] [binary:BoostFromScore]: pavg=0.528514 -> initscore=0.114181                                         \n",
      "[LightGBM] [Info] Start training from score 0.114181                                                                   \n",
      "[LightGBM] [Warning] Unknown parameter: max_features                                                                   \n",
      "[LightGBM] [Warning] Unknown parameter: max_features                                                                   \n",
      "[LightGBM] [Warning] Unknown parameter: max_features                                                                   \n",
      "[LightGBM] [Info] Number of positive: 12919, number of negative: 11525                                                 \n",
      "[LightGBM] [Warning] Auto-choosing col-wise multi-threading, the overhead of testing was 0.163291 seconds.             \n",
      "You can set `force_col_wise=true` to remove the overhead.\n",
      "[LightGBM] [Info] Total Bins 292892                                                                                    \n",
      "[LightGBM] [Info] Number of data points in the train set: 24444, number of used features: 2488                         \n",
      "[LightGBM] [Info] [binary:BoostFromScore]: pavg=0.528514 -> initscore=0.114181                                         \n",
      "[LightGBM] [Info] Start training from score 0.114181                                                                   \n",
      "[LightGBM] [Warning] Unknown parameter: max_features                                                                   \n",
      "[LightGBM] [Warning] Unknown parameter: max_features                                                                   \n",
      "[LightGBM] [Warning] Unknown parameter: max_features                                                                   \n",
      "[LightGBM] [Info] Number of positive: 12919, number of negative: 11525                                                 \n",
      "[LightGBM] [Warning] Auto-choosing col-wise multi-threading, the overhead of testing was 0.164430 seconds.             \n",
      "You can set `force_col_wise=true` to remove the overhead.\n",
      "[LightGBM] [Info] Total Bins 292911                                                                                    \n",
      "[LightGBM] [Info] Number of data points in the train set: 24444, number of used features: 2491                         \n",
      "[LightGBM] [Info] [binary:BoostFromScore]: pavg=0.528514 -> initscore=0.114181                                         \n",
      "[LightGBM] [Info] Start training from score 0.114181                                                                   \n",
      "[LightGBM] [Warning] Unknown parameter: max_features                                                                   \n",
      "[LightGBM] [Warning] Unknown parameter: max_features                                                                   \n",
      "[LightGBM] [Warning] Unknown parameter: max_features                                                                   \n",
      "[LightGBM] [Info] Number of positive: 12919, number of negative: 11525                                                 \n",
      "[LightGBM] [Warning] Auto-choosing col-wise multi-threading, the overhead of testing was 0.159288 seconds.             \n",
      "You can set `force_col_wise=true` to remove the overhead.\n",
      "[LightGBM] [Info] Total Bins 292933                                                                                    \n",
      "[LightGBM] [Info] Number of data points in the train set: 24444, number of used features: 2494                         \n",
      "[LightGBM] [Info] [binary:BoostFromScore]: pavg=0.528514 -> initscore=0.114181                                         \n",
      "[LightGBM] [Info] Start training from score 0.114181                                                                   \n",
      "[LightGBM] [Warning] Unknown parameter: max_features                                                                   \n",
      "[LightGBM] [Warning] Unknown parameter: max_features                                                                   \n",
      "[LightGBM] [Warning] Unknown parameter: max_features                                                                   \n",
      "[LightGBM] [Info] Number of positive: 12919, number of negative: 11525                                                 \n",
      "[LightGBM] [Warning] Auto-choosing col-wise multi-threading, the overhead of testing was 0.158315 seconds.             \n",
      "You can set `force_col_wise=true` to remove the overhead.\n",
      "[LightGBM] [Info] Total Bins 292892                                                                                    \n",
      "[LightGBM] [Info] Number of data points in the train set: 24444, number of used features: 2488                         \n",
      "[LightGBM] [Info] [binary:BoostFromScore]: pavg=0.528514 -> initscore=0.114181                                         \n",
      "[LightGBM] [Info] Start training from score 0.114181                                                                   \n",
      "[LightGBM] [Warning] Unknown parameter: max_features                                                                   \n",
      "[LightGBM] [Warning] Unknown parameter: max_features                                                                   \n",
      "[LightGBM] [Warning] Unknown parameter: max_features                                                                   \n",
      "[LightGBM] [Info] Number of positive: 12919, number of negative: 11525                                                 \n",
      "[LightGBM] [Warning] Auto-choosing col-wise multi-threading, the overhead of testing was 0.153548 seconds.             \n",
      "You can set `force_col_wise=true` to remove the overhead.\n",
      "[LightGBM] [Info] Total Bins 292892                                                                                    \n",
      "[LightGBM] [Info] Number of data points in the train set: 24444, number of used features: 2488                         \n",
      "[LightGBM] [Info] [binary:BoostFromScore]: pavg=0.528514 -> initscore=0.114181                                         \n",
      "[LightGBM] [Info] Start training from score 0.114181                                                                   \n",
      "[LightGBM] [Warning] Unknown parameter: max_features                                                                   \n",
      "[LightGBM] [Warning] Unknown parameter: max_features                                                                   \n",
      "[LightGBM] [Warning] Unknown parameter: max_features                                                                   \n",
      "[LightGBM] [Info] Number of positive: 12919, number of negative: 11525                                                 \n",
      "[LightGBM] [Warning] Auto-choosing col-wise multi-threading, the overhead of testing was 0.162920 seconds.             \n",
      "You can set `force_col_wise=true` to remove the overhead.\n",
      "[LightGBM] [Info] Total Bins 292892                                                                                    \n",
      "[LightGBM] [Info] Number of data points in the train set: 24444, number of used features: 2488                         \n",
      "[LightGBM] [Info] [binary:BoostFromScore]: pavg=0.528514 -> initscore=0.114181                                         \n",
      "[LightGBM] [Info] Start training from score 0.114181                                                                   \n",
      "[LightGBM] [Warning] Unknown parameter: max_features                                                                   \n",
      "[LightGBM] [Warning] Unknown parameter: max_features                                                                   \n",
      "[LightGBM] [Warning] Unknown parameter: max_features                                                                   \n",
      "[LightGBM] [Info] Number of positive: 12919, number of negative: 11525                                                 \n",
      "[LightGBM] [Warning] Auto-choosing col-wise multi-threading, the overhead of testing was 0.167622 seconds.             \n",
      "You can set `force_col_wise=true` to remove the overhead.\n",
      "[LightGBM] [Info] Total Bins 292892                                                                                    \n",
      "[LightGBM] [Info] Number of data points in the train set: 24444, number of used features: 2488                         \n",
      "[LightGBM] [Info] [binary:BoostFromScore]: pavg=0.528514 -> initscore=0.114181                                         \n",
      "[LightGBM] [Info] Start training from score 0.114181                                                                   \n",
      "[LightGBM] [Warning] Unknown parameter: max_features                                                                   \n",
      "[LightGBM] [Warning] Unknown parameter: max_features                                                                   \n",
      "[LightGBM] [Warning] Unknown parameter: max_features                                                                   \n",
      "[LightGBM] [Info] Number of positive: 12919, number of negative: 11525                                                 \n",
      "[LightGBM] [Warning] Auto-choosing col-wise multi-threading, the overhead of testing was 0.166576 seconds.             \n",
      "You can set `force_col_wise=true` to remove the overhead.\n",
      "[LightGBM] [Info] Total Bins 292892                                                                                    \n",
      "[LightGBM] [Info] Number of data points in the train set: 24444, number of used features: 2488                         \n",
      "[LightGBM] [Info] [binary:BoostFromScore]: pavg=0.528514 -> initscore=0.114181                                         \n",
      "[LightGBM] [Info] Start training from score 0.114181                                                                   \n",
      "[LightGBM] [Warning] Unknown parameter: max_features                                                                   \n",
      "[LightGBM] [Warning] Unknown parameter: max_features                                                                   \n",
      "[LightGBM] [Warning] Unknown parameter: max_features                                                                   \n",
      "[LightGBM] [Info] Number of positive: 12919, number of negative: 11525                                                 \n",
      "[LightGBM] [Warning] Auto-choosing col-wise multi-threading, the overhead of testing was 0.153085 seconds.             \n",
      "You can set `force_col_wise=true` to remove the overhead.\n",
      "[LightGBM] [Info] Total Bins 292892                                                                                    \n",
      "[LightGBM] [Info] Number of data points in the train set: 24444, number of used features: 2488                         \n",
      "[LightGBM] [Info] [binary:BoostFromScore]: pavg=0.528514 -> initscore=0.114181                                         \n",
      "[LightGBM] [Info] Start training from score 0.114181                                                                   \n",
      "[LightGBM] [Warning] Unknown parameter: max_features                                                                   \n",
      "[LightGBM] [Warning] Unknown parameter: max_features                                                                   \n",
      "[LightGBM] [Warning] Unknown parameter: max_features                                                                   \n",
      "[LightGBM] [Info] Number of positive: 12919, number of negative: 11525                                                 \n",
      "[LightGBM] [Warning] Auto-choosing col-wise multi-threading, the overhead of testing was 0.176322 seconds.             \n",
      "You can set `force_col_wise=true` to remove the overhead.\n",
      "[LightGBM] [Info] Total Bins 292892                                                                                    \n",
      "[LightGBM] [Info] Number of data points in the train set: 24444, number of used features: 2488                         \n",
      "[LightGBM] [Info] [binary:BoostFromScore]: pavg=0.528514 -> initscore=0.114181                                         \n",
      "[LightGBM] [Info] Start training from score 0.114181                                                                   \n",
      "[LightGBM] [Warning] Unknown parameter: max_features                                                                   \n",
      "[LightGBM] [Warning] Unknown parameter: max_features                                                                   \n",
      "[LightGBM] [Warning] Unknown parameter: max_features                                                                   \n",
      "[LightGBM] [Info] Number of positive: 12919, number of negative: 11525                                                 \n",
      "[LightGBM] [Warning] Auto-choosing col-wise multi-threading, the overhead of testing was 0.176893 seconds.             \n",
      "You can set `force_col_wise=true` to remove the overhead.\n",
      "[LightGBM] [Info] Total Bins 292892                                                                                    \n",
      "[LightGBM] [Info] Number of data points in the train set: 24444, number of used features: 2488                         \n",
      "[LightGBM] [Info] [binary:BoostFromScore]: pavg=0.528514 -> initscore=0.114181                                         \n",
      "[LightGBM] [Info] Start training from score 0.114181                                                                   \n",
      "[LightGBM] [Warning] Unknown parameter: max_features                                                                   \n",
      "[LightGBM] [Warning] Unknown parameter: max_features                                                                   \n",
      "[LightGBM] [Warning] Unknown parameter: max_features                                                                   \n",
      "[LightGBM] [Info] Number of positive: 12919, number of negative: 11525                                                 \n",
      "[LightGBM] [Warning] Auto-choosing col-wise multi-threading, the overhead of testing was 0.184543 seconds.             \n",
      "You can set `force_col_wise=true` to remove the overhead.\n",
      "[LightGBM] [Info] Total Bins 292892                                                                                    \n",
      "[LightGBM] [Info] Number of data points in the train set: 24444, number of used features: 2488                         \n",
      "[LightGBM] [Info] [binary:BoostFromScore]: pavg=0.528514 -> initscore=0.114181                                         \n",
      "[LightGBM] [Info] Start training from score 0.114181                                                                   \n",
      "[LightGBM] [Warning] Unknown parameter: max_features                                                                   \n",
      "[LightGBM] [Warning] Unknown parameter: max_features                                                                   \n",
      "[LightGBM] [Warning] Unknown parameter: max_features                                                                   \n",
      "[LightGBM] [Info] Number of positive: 12919, number of negative: 11525                                                 \n",
      "[LightGBM] [Warning] Auto-choosing col-wise multi-threading, the overhead of testing was 0.197912 seconds.             \n",
      "You can set `force_col_wise=true` to remove the overhead.\n",
      "[LightGBM] [Info] Total Bins 292892                                                                                    \n",
      "[LightGBM] [Info] Number of data points in the train set: 24444, number of used features: 2488                         \n",
      "[LightGBM] [Info] [binary:BoostFromScore]: pavg=0.528514 -> initscore=0.114181                                         \n",
      "[LightGBM] [Info] Start training from score 0.114181                                                                   \n",
      "[LightGBM] [Warning] Unknown parameter: max_features                                                                   \n",
      "[LightGBM] [Warning] Unknown parameter: max_features                                                                   \n",
      "[LightGBM] [Warning] Unknown parameter: max_features                                                                   \n",
      "[LightGBM] [Info] Number of positive: 12919, number of negative: 11525                                                 \n",
      "[LightGBM] [Warning] Auto-choosing col-wise multi-threading, the overhead of testing was 0.159801 seconds.             \n",
      "You can set `force_col_wise=true` to remove the overhead.\n",
      "[LightGBM] [Info] Total Bins 292892                                                                                    \n",
      "[LightGBM] [Info] Number of data points in the train set: 24444, number of used features: 2488                         \n",
      "[LightGBM] [Info] [binary:BoostFromScore]: pavg=0.528514 -> initscore=0.114181                                         \n",
      "[LightGBM] [Info] Start training from score 0.114181                                                                   \n",
      "[LightGBM] [Warning] Unknown parameter: max_features                                                                   \n",
      "[LightGBM] [Warning] Unknown parameter: max_features                                                                   \n",
      "[LightGBM] [Warning] Unknown parameter: max_features                                                                   \n",
      "[LightGBM] [Info] Number of positive: 12919, number of negative: 11525                                                 \n",
      "[LightGBM] [Warning] Auto-choosing col-wise multi-threading, the overhead of testing was 0.194431 seconds.             \n",
      "You can set `force_col_wise=true` to remove the overhead.\n",
      "[LightGBM] [Info] Total Bins 292892                                                                                    \n",
      "[LightGBM] [Info] Number of data points in the train set: 24444, number of used features: 2488                         \n",
      "[LightGBM] [Info] [binary:BoostFromScore]: pavg=0.528514 -> initscore=0.114181                                         \n",
      "[LightGBM] [Info] Start training from score 0.114181                                                                   \n",
      "[LightGBM] [Warning] Unknown parameter: max_features                                                                   \n",
      "[LightGBM] [Warning] Unknown parameter: max_features                                                                   \n",
      "[LightGBM] [Warning] Unknown parameter: max_features                                                                   \n",
      "[LightGBM] [Info] Number of positive: 12919, number of negative: 11525                                                 \n",
      "[LightGBM] [Warning] Auto-choosing col-wise multi-threading, the overhead of testing was 0.178987 seconds.             \n",
      "You can set `force_col_wise=true` to remove the overhead.\n",
      "[LightGBM] [Info] Total Bins 292892                                                                                    \n",
      "[LightGBM] [Info] Number of data points in the train set: 24444, number of used features: 2488                         \n",
      "[LightGBM] [Info] [binary:BoostFromScore]: pavg=0.528514 -> initscore=0.114181                                         \n",
      "[LightGBM] [Info] Start training from score 0.114181                                                                   \n",
      "[LightGBM] [Warning] Unknown parameter: max_features                                                                   \n",
      "[LightGBM] [Warning] Unknown parameter: max_features                                                                   \n",
      "[LightGBM] [Warning] Unknown parameter: max_features                                                                   \n",
      "[LightGBM] [Info] Number of positive: 12919, number of negative: 11525                                                 \n",
      "[LightGBM] [Warning] Auto-choosing col-wise multi-threading, the overhead of testing was 0.196067 seconds.             \n",
      "You can set `force_col_wise=true` to remove the overhead.\n",
      "[LightGBM] [Info] Total Bins 292892                                                                                    \n",
      "[LightGBM] [Info] Number of data points in the train set: 24444, number of used features: 2488                         \n",
      "[LightGBM] [Info] [binary:BoostFromScore]: pavg=0.528514 -> initscore=0.114181                                         \n",
      "[LightGBM] [Info] Start training from score 0.114181                                                                   \n",
      "  0%|▏                                         | 33/7000 [05:09<18:09:04,  9.38s/trial, best loss: -0.8960608663639711]\n"
     ]
    },
    {
     "ename": "KeyboardInterrupt",
     "evalue": "",
     "output_type": "error",
     "traceback": [
      "\u001b[1;31m---------------------------------------------------------------------------\u001b[0m",
      "\u001b[1;31mKeyboardInterrupt\u001b[0m                         Traceback (most recent call last)",
      "\u001b[1;32m<ipython-input-28-49acbf999852>\u001b[0m in \u001b[0;36m<module>\u001b[1;34m\u001b[0m\n\u001b[1;32m----> 1\u001b[1;33m \u001b[0mparams_best\u001b[0m \u001b[1;33m=\u001b[0m \u001b[0mparam_hyperopt\u001b[0m\u001b[1;33m(\u001b[0m\u001b[1;36m7000\u001b[0m\u001b[1;33m)\u001b[0m\u001b[1;33m\u001b[0m\u001b[1;33m\u001b[0m\u001b[0m\n\u001b[0m",
      "\u001b[1;32m<ipython-input-27-f8f050b47f67>\u001b[0m in \u001b[0;36mparam_hyperopt\u001b[1;34m(max_evals)\u001b[0m\n\u001b[0;32m      2\u001b[0m \u001b[1;32mdef\u001b[0m \u001b[0mparam_hyperopt\u001b[0m\u001b[1;33m(\u001b[0m\u001b[0mmax_evals\u001b[0m\u001b[1;33m)\u001b[0m\u001b[1;33m:\u001b[0m\u001b[1;33m\u001b[0m\u001b[1;33m\u001b[0m\u001b[0m\n\u001b[0;32m      3\u001b[0m     \u001b[1;31m#定义代理模型\u001b[0m\u001b[1;33m\u001b[0m\u001b[1;33m\u001b[0m\u001b[1;33m\u001b[0m\u001b[0m\n\u001b[1;32m----> 4\u001b[1;33m     params_best = fmin(fn = hyperopt_objective #目标函数\n\u001b[0m\u001b[0;32m      5\u001b[0m                        \u001b[1;33m,\u001b[0m \u001b[0mspace\u001b[0m \u001b[1;33m=\u001b[0m \u001b[0mparam_grid_simple\u001b[0m \u001b[1;31m#参数空间\u001b[0m\u001b[1;33m\u001b[0m\u001b[1;33m\u001b[0m\u001b[0m\n\u001b[0;32m      6\u001b[0m                        \u001b[1;33m,\u001b[0m \u001b[0malgo\u001b[0m \u001b[1;33m=\u001b[0m \u001b[0mtpe\u001b[0m\u001b[1;33m.\u001b[0m\u001b[0msuggest\u001b[0m\u001b[1;33m\u001b[0m\u001b[1;33m\u001b[0m\u001b[0m\n",
      "\u001b[1;32mD:\\anaconda3\\lib\\site-packages\\hyperopt\\fmin.py\u001b[0m in \u001b[0;36mfmin\u001b[1;34m(fn, space, algo, max_evals, timeout, loss_threshold, trials, rstate, allow_trials_fmin, pass_expr_memo_ctrl, catch_eval_exceptions, verbose, return_argmin, points_to_evaluate, max_queue_len, show_progressbar, early_stop_fn, trials_save_file)\u001b[0m\n\u001b[0;32m    584\u001b[0m \u001b[1;33m\u001b[0m\u001b[0m\n\u001b[0;32m    585\u001b[0m     \u001b[1;31m# next line is where the fmin is actually executed\u001b[0m\u001b[1;33m\u001b[0m\u001b[1;33m\u001b[0m\u001b[1;33m\u001b[0m\u001b[0m\n\u001b[1;32m--> 586\u001b[1;33m     \u001b[0mrval\u001b[0m\u001b[1;33m.\u001b[0m\u001b[0mexhaust\u001b[0m\u001b[1;33m(\u001b[0m\u001b[1;33m)\u001b[0m\u001b[1;33m\u001b[0m\u001b[1;33m\u001b[0m\u001b[0m\n\u001b[0m\u001b[0;32m    587\u001b[0m \u001b[1;33m\u001b[0m\u001b[0m\n\u001b[0;32m    588\u001b[0m     \u001b[1;32mif\u001b[0m \u001b[0mreturn_argmin\u001b[0m\u001b[1;33m:\u001b[0m\u001b[1;33m\u001b[0m\u001b[1;33m\u001b[0m\u001b[0m\n",
      "\u001b[1;32mD:\\anaconda3\\lib\\site-packages\\hyperopt\\fmin.py\u001b[0m in \u001b[0;36mexhaust\u001b[1;34m(self)\u001b[0m\n\u001b[0;32m    362\u001b[0m     \u001b[1;32mdef\u001b[0m \u001b[0mexhaust\u001b[0m\u001b[1;33m(\u001b[0m\u001b[0mself\u001b[0m\u001b[1;33m)\u001b[0m\u001b[1;33m:\u001b[0m\u001b[1;33m\u001b[0m\u001b[1;33m\u001b[0m\u001b[0m\n\u001b[0;32m    363\u001b[0m         \u001b[0mn_done\u001b[0m \u001b[1;33m=\u001b[0m \u001b[0mlen\u001b[0m\u001b[1;33m(\u001b[0m\u001b[0mself\u001b[0m\u001b[1;33m.\u001b[0m\u001b[0mtrials\u001b[0m\u001b[1;33m)\u001b[0m\u001b[1;33m\u001b[0m\u001b[1;33m\u001b[0m\u001b[0m\n\u001b[1;32m--> 364\u001b[1;33m         \u001b[0mself\u001b[0m\u001b[1;33m.\u001b[0m\u001b[0mrun\u001b[0m\u001b[1;33m(\u001b[0m\u001b[0mself\u001b[0m\u001b[1;33m.\u001b[0m\u001b[0mmax_evals\u001b[0m \u001b[1;33m-\u001b[0m \u001b[0mn_done\u001b[0m\u001b[1;33m,\u001b[0m \u001b[0mblock_until_done\u001b[0m\u001b[1;33m=\u001b[0m\u001b[0mself\u001b[0m\u001b[1;33m.\u001b[0m\u001b[0masynchronous\u001b[0m\u001b[1;33m)\u001b[0m\u001b[1;33m\u001b[0m\u001b[1;33m\u001b[0m\u001b[0m\n\u001b[0m\u001b[0;32m    365\u001b[0m         \u001b[0mself\u001b[0m\u001b[1;33m.\u001b[0m\u001b[0mtrials\u001b[0m\u001b[1;33m.\u001b[0m\u001b[0mrefresh\u001b[0m\u001b[1;33m(\u001b[0m\u001b[1;33m)\u001b[0m\u001b[1;33m\u001b[0m\u001b[1;33m\u001b[0m\u001b[0m\n\u001b[0;32m    366\u001b[0m         \u001b[1;32mreturn\u001b[0m \u001b[0mself\u001b[0m\u001b[1;33m\u001b[0m\u001b[1;33m\u001b[0m\u001b[0m\n",
      "\u001b[1;32mD:\\anaconda3\\lib\\site-packages\\hyperopt\\fmin.py\u001b[0m in \u001b[0;36mrun\u001b[1;34m(self, N, block_until_done)\u001b[0m\n\u001b[0;32m    298\u001b[0m                 \u001b[1;32melse\u001b[0m\u001b[1;33m:\u001b[0m\u001b[1;33m\u001b[0m\u001b[1;33m\u001b[0m\u001b[0m\n\u001b[0;32m    299\u001b[0m                     \u001b[1;31m# -- loop over trials and do the jobs directly\u001b[0m\u001b[1;33m\u001b[0m\u001b[1;33m\u001b[0m\u001b[1;33m\u001b[0m\u001b[0m\n\u001b[1;32m--> 300\u001b[1;33m                     \u001b[0mself\u001b[0m\u001b[1;33m.\u001b[0m\u001b[0mserial_evaluate\u001b[0m\u001b[1;33m(\u001b[0m\u001b[1;33m)\u001b[0m\u001b[1;33m\u001b[0m\u001b[1;33m\u001b[0m\u001b[0m\n\u001b[0m\u001b[0;32m    301\u001b[0m \u001b[1;33m\u001b[0m\u001b[0m\n\u001b[0;32m    302\u001b[0m                 \u001b[0mself\u001b[0m\u001b[1;33m.\u001b[0m\u001b[0mtrials\u001b[0m\u001b[1;33m.\u001b[0m\u001b[0mrefresh\u001b[0m\u001b[1;33m(\u001b[0m\u001b[1;33m)\u001b[0m\u001b[1;33m\u001b[0m\u001b[1;33m\u001b[0m\u001b[0m\n",
      "\u001b[1;32mD:\\anaconda3\\lib\\site-packages\\hyperopt\\fmin.py\u001b[0m in \u001b[0;36mserial_evaluate\u001b[1;34m(self, N)\u001b[0m\n\u001b[0;32m    176\u001b[0m                 \u001b[0mctrl\u001b[0m \u001b[1;33m=\u001b[0m \u001b[0mbase\u001b[0m\u001b[1;33m.\u001b[0m\u001b[0mCtrl\u001b[0m\u001b[1;33m(\u001b[0m\u001b[0mself\u001b[0m\u001b[1;33m.\u001b[0m\u001b[0mtrials\u001b[0m\u001b[1;33m,\u001b[0m \u001b[0mcurrent_trial\u001b[0m\u001b[1;33m=\u001b[0m\u001b[0mtrial\u001b[0m\u001b[1;33m)\u001b[0m\u001b[1;33m\u001b[0m\u001b[1;33m\u001b[0m\u001b[0m\n\u001b[0;32m    177\u001b[0m                 \u001b[1;32mtry\u001b[0m\u001b[1;33m:\u001b[0m\u001b[1;33m\u001b[0m\u001b[1;33m\u001b[0m\u001b[0m\n\u001b[1;32m--> 178\u001b[1;33m                     \u001b[0mresult\u001b[0m \u001b[1;33m=\u001b[0m \u001b[0mself\u001b[0m\u001b[1;33m.\u001b[0m\u001b[0mdomain\u001b[0m\u001b[1;33m.\u001b[0m\u001b[0mevaluate\u001b[0m\u001b[1;33m(\u001b[0m\u001b[0mspec\u001b[0m\u001b[1;33m,\u001b[0m \u001b[0mctrl\u001b[0m\u001b[1;33m)\u001b[0m\u001b[1;33m\u001b[0m\u001b[1;33m\u001b[0m\u001b[0m\n\u001b[0m\u001b[0;32m    179\u001b[0m                 \u001b[1;32mexcept\u001b[0m \u001b[0mException\u001b[0m \u001b[1;32mas\u001b[0m \u001b[0me\u001b[0m\u001b[1;33m:\u001b[0m\u001b[1;33m\u001b[0m\u001b[1;33m\u001b[0m\u001b[0m\n\u001b[0;32m    180\u001b[0m                     \u001b[0mlogger\u001b[0m\u001b[1;33m.\u001b[0m\u001b[0merror\u001b[0m\u001b[1;33m(\u001b[0m\u001b[1;34m\"job exception: %s\"\u001b[0m \u001b[1;33m%\u001b[0m \u001b[0mstr\u001b[0m\u001b[1;33m(\u001b[0m\u001b[0me\u001b[0m\u001b[1;33m)\u001b[0m\u001b[1;33m)\u001b[0m\u001b[1;33m\u001b[0m\u001b[1;33m\u001b[0m\u001b[0m\n",
      "\u001b[1;32mD:\\anaconda3\\lib\\site-packages\\hyperopt\\base.py\u001b[0m in \u001b[0;36mevaluate\u001b[1;34m(self, config, ctrl, attach_attachments)\u001b[0m\n\u001b[0;32m    890\u001b[0m                 \u001b[0mprint_node_on_error\u001b[0m\u001b[1;33m=\u001b[0m\u001b[0mself\u001b[0m\u001b[1;33m.\u001b[0m\u001b[0mrec_eval_print_node_on_error\u001b[0m\u001b[1;33m,\u001b[0m\u001b[1;33m\u001b[0m\u001b[1;33m\u001b[0m\u001b[0m\n\u001b[0;32m    891\u001b[0m             )\n\u001b[1;32m--> 892\u001b[1;33m             \u001b[0mrval\u001b[0m \u001b[1;33m=\u001b[0m \u001b[0mself\u001b[0m\u001b[1;33m.\u001b[0m\u001b[0mfn\u001b[0m\u001b[1;33m(\u001b[0m\u001b[0mpyll_rval\u001b[0m\u001b[1;33m)\u001b[0m\u001b[1;33m\u001b[0m\u001b[1;33m\u001b[0m\u001b[0m\n\u001b[0m\u001b[0;32m    893\u001b[0m \u001b[1;33m\u001b[0m\u001b[0m\n\u001b[0;32m    894\u001b[0m         \u001b[1;32mif\u001b[0m \u001b[0misinstance\u001b[0m\u001b[1;33m(\u001b[0m\u001b[0mrval\u001b[0m\u001b[1;33m,\u001b[0m \u001b[1;33m(\u001b[0m\u001b[0mfloat\u001b[0m\u001b[1;33m,\u001b[0m \u001b[0mint\u001b[0m\u001b[1;33m,\u001b[0m \u001b[0mnp\u001b[0m\u001b[1;33m.\u001b[0m\u001b[0mnumber\u001b[0m\u001b[1;33m)\u001b[0m\u001b[1;33m)\u001b[0m\u001b[1;33m:\u001b[0m\u001b[1;33m\u001b[0m\u001b[1;33m\u001b[0m\u001b[0m\n",
      "\u001b[1;32m<ipython-input-26-dfef82655cd8>\u001b[0m in \u001b[0;36mhyperopt_objective\u001b[1;34m(params)\u001b[0m\n\u001b[0;32m     10\u001b[0m                              \u001b[1;33m,\u001b[0m\u001b[0mnum_leaves\u001b[0m \u001b[1;33m=\u001b[0m \u001b[0mint\u001b[0m\u001b[1;33m(\u001b[0m\u001b[0mparams\u001b[0m\u001b[1;33m[\u001b[0m\u001b[1;34m\"num_leaves\"\u001b[0m\u001b[1;33m]\u001b[0m\u001b[1;33m)\u001b[0m\u001b[1;33m\u001b[0m\u001b[1;33m\u001b[0m\u001b[0m\n\u001b[0;32m     11\u001b[0m                               )\n\u001b[1;32m---> 12\u001b[1;33m     \u001b[0mclf_lgbm\u001b[0m\u001b[1;33m.\u001b[0m\u001b[0mfit\u001b[0m\u001b[1;33m(\u001b[0m\u001b[0mX_train\u001b[0m\u001b[1;33m,\u001b[0m \u001b[0my_train\u001b[0m\u001b[1;33m)\u001b[0m\u001b[1;33m\u001b[0m\u001b[1;33m\u001b[0m\u001b[0m\n\u001b[0m\u001b[0;32m     13\u001b[0m     \u001b[0mscore\u001b[0m \u001b[1;33m=\u001b[0m \u001b[0mclf_lgbm\u001b[0m\u001b[1;33m.\u001b[0m\u001b[0mscore\u001b[0m\u001b[1;33m(\u001b[0m\u001b[0mX_test\u001b[0m\u001b[1;33m,\u001b[0m \u001b[0my_test\u001b[0m\u001b[1;33m)\u001b[0m\u001b[1;33m\u001b[0m\u001b[1;33m\u001b[0m\u001b[0m\n\u001b[0;32m     14\u001b[0m     \u001b[1;32mreturn\u001b[0m \u001b[1;33m-\u001b[0m\u001b[0mscore\u001b[0m\u001b[1;33m\u001b[0m\u001b[1;33m\u001b[0m\u001b[0m\n",
      "\u001b[1;32mD:\\anaconda3\\lib\\site-packages\\lightgbm\\sklearn.py\u001b[0m in \u001b[0;36mfit\u001b[1;34m(self, X, y, sample_weight, init_score, eval_set, eval_names, eval_sample_weight, eval_class_weight, eval_init_score, eval_metric, feature_name, categorical_feature, callbacks, init_model)\u001b[0m\n\u001b[0;32m   1140\u001b[0m                     \u001b[0mvalid_sets\u001b[0m\u001b[1;33m.\u001b[0m\u001b[0mappend\u001b[0m\u001b[1;33m(\u001b[0m\u001b[1;33m(\u001b[0m\u001b[0mvalid_x\u001b[0m\u001b[1;33m,\u001b[0m \u001b[0mself\u001b[0m\u001b[1;33m.\u001b[0m\u001b[0m_le\u001b[0m\u001b[1;33m.\u001b[0m\u001b[0mtransform\u001b[0m\u001b[1;33m(\u001b[0m\u001b[0mvalid_y\u001b[0m\u001b[1;33m)\u001b[0m\u001b[1;33m)\u001b[0m\u001b[1;33m)\u001b[0m\u001b[1;33m\u001b[0m\u001b[1;33m\u001b[0m\u001b[0m\n\u001b[0;32m   1141\u001b[0m \u001b[1;33m\u001b[0m\u001b[0m\n\u001b[1;32m-> 1142\u001b[1;33m         super().fit(\n\u001b[0m\u001b[0;32m   1143\u001b[0m             \u001b[0mX\u001b[0m\u001b[1;33m,\u001b[0m\u001b[1;33m\u001b[0m\u001b[1;33m\u001b[0m\u001b[0m\n\u001b[0;32m   1144\u001b[0m             \u001b[0m_y\u001b[0m\u001b[1;33m,\u001b[0m\u001b[1;33m\u001b[0m\u001b[1;33m\u001b[0m\u001b[0m\n",
      "\u001b[1;32mD:\\anaconda3\\lib\\site-packages\\lightgbm\\sklearn.py\u001b[0m in \u001b[0;36mfit\u001b[1;34m(self, X, y, sample_weight, init_score, group, eval_set, eval_names, eval_sample_weight, eval_class_weight, eval_init_score, eval_group, eval_metric, feature_name, categorical_feature, callbacks, init_model)\u001b[0m\n\u001b[0;32m    840\u001b[0m         \u001b[0mcallbacks\u001b[0m\u001b[1;33m.\u001b[0m\u001b[0mappend\u001b[0m\u001b[1;33m(\u001b[0m\u001b[0mrecord_evaluation\u001b[0m\u001b[1;33m(\u001b[0m\u001b[0mevals_result\u001b[0m\u001b[1;33m)\u001b[0m\u001b[1;33m)\u001b[0m\u001b[1;33m\u001b[0m\u001b[1;33m\u001b[0m\u001b[0m\n\u001b[0;32m    841\u001b[0m \u001b[1;33m\u001b[0m\u001b[0m\n\u001b[1;32m--> 842\u001b[1;33m         self._Booster = train(\n\u001b[0m\u001b[0;32m    843\u001b[0m             \u001b[0mparams\u001b[0m\u001b[1;33m=\u001b[0m\u001b[0mparams\u001b[0m\u001b[1;33m,\u001b[0m\u001b[1;33m\u001b[0m\u001b[1;33m\u001b[0m\u001b[0m\n\u001b[0;32m    844\u001b[0m             \u001b[0mtrain_set\u001b[0m\u001b[1;33m=\u001b[0m\u001b[0mtrain_set\u001b[0m\u001b[1;33m,\u001b[0m\u001b[1;33m\u001b[0m\u001b[1;33m\u001b[0m\u001b[0m\n",
      "\u001b[1;32mD:\\anaconda3\\lib\\site-packages\\lightgbm\\engine.py\u001b[0m in \u001b[0;36mtrain\u001b[1;34m(params, train_set, num_boost_round, valid_sets, valid_names, feval, init_model, feature_name, categorical_feature, keep_training_booster, callbacks)\u001b[0m\n\u001b[0;32m    264\u001b[0m                                     evaluation_result_list=None))\n\u001b[0;32m    265\u001b[0m \u001b[1;33m\u001b[0m\u001b[0m\n\u001b[1;32m--> 266\u001b[1;33m         \u001b[0mbooster\u001b[0m\u001b[1;33m.\u001b[0m\u001b[0mupdate\u001b[0m\u001b[1;33m(\u001b[0m\u001b[0mfobj\u001b[0m\u001b[1;33m=\u001b[0m\u001b[0mfobj\u001b[0m\u001b[1;33m)\u001b[0m\u001b[1;33m\u001b[0m\u001b[1;33m\u001b[0m\u001b[0m\n\u001b[0m\u001b[0;32m    267\u001b[0m \u001b[1;33m\u001b[0m\u001b[0m\n\u001b[0;32m    268\u001b[0m         \u001b[0mevaluation_result_list\u001b[0m\u001b[1;33m:\u001b[0m \u001b[0mList\u001b[0m\u001b[1;33m[\u001b[0m\u001b[0m_LGBM_BoosterEvalMethodResultType\u001b[0m\u001b[1;33m]\u001b[0m \u001b[1;33m=\u001b[0m \u001b[1;33m[\u001b[0m\u001b[1;33m]\u001b[0m\u001b[1;33m\u001b[0m\u001b[1;33m\u001b[0m\u001b[0m\n",
      "\u001b[1;32mD:\\anaconda3\\lib\\site-packages\\lightgbm\\basic.py\u001b[0m in \u001b[0;36mupdate\u001b[1;34m(self, train_set, fobj)\u001b[0m\n\u001b[0;32m   3555\u001b[0m             \u001b[1;32mif\u001b[0m \u001b[0mself\u001b[0m\u001b[1;33m.\u001b[0m\u001b[0m__set_objective_to_none\u001b[0m\u001b[1;33m:\u001b[0m\u001b[1;33m\u001b[0m\u001b[1;33m\u001b[0m\u001b[0m\n\u001b[0;32m   3556\u001b[0m                 \u001b[1;32mraise\u001b[0m \u001b[0mLightGBMError\u001b[0m\u001b[1;33m(\u001b[0m\u001b[1;34m'Cannot update due to null objective function.'\u001b[0m\u001b[1;33m)\u001b[0m\u001b[1;33m\u001b[0m\u001b[1;33m\u001b[0m\u001b[0m\n\u001b[1;32m-> 3557\u001b[1;33m             _safe_call(_LIB.LGBM_BoosterUpdateOneIter(\n\u001b[0m\u001b[0;32m   3558\u001b[0m                 \u001b[0mself\u001b[0m\u001b[1;33m.\u001b[0m\u001b[0m_handle\u001b[0m\u001b[1;33m,\u001b[0m\u001b[1;33m\u001b[0m\u001b[1;33m\u001b[0m\u001b[0m\n\u001b[0;32m   3559\u001b[0m                 ctypes.byref(is_finished)))\n",
      "\u001b[1;31mKeyboardInterrupt\u001b[0m: "
     ]
    }
   ],
   "source": [
    "params_best = param_hyperopt(7000)"
   ]
  },
  {
   "cell_type": "code",
   "execution_count": 11,
   "id": "21599bf1",
   "metadata": {},
   "outputs": [
    {
     "data": {
      "text/plain": [
       "{'colsample_bytree': 0.43,\n",
       " 'learning_rate': 0.1,\n",
       " 'max_depth': 70.0,\n",
       " 'max_features': 2,\n",
       " 'min_child_samples': 37.0,\n",
       " 'n_estimators': 51.0,\n",
       " 'num_leaves': 109.0}"
      ]
     },
     "execution_count": 11,
     "metadata": {},
     "output_type": "execute_result"
    }
   ],
   "source": [
    "params_best"
   ]
  },
  {
   "cell_type": "code",
   "execution_count": 12,
   "id": "ce42f98b",
   "metadata": {},
   "outputs": [],
   "source": [
    "param_grid_simple = {'n_estimators': hp.quniform(\"n_estimators\",45,55,1)\n",
    "                  ,\"learning_rate\": hp.quniform(\"learning_rate\",0.05,0.15,0.001)\n",
    "                  ,\"max_features\": hp.choice(\"max_features\",[\"log2\",\"sqrt\",1000,2000,2598])\n",
    "                  ,\"colsample_bytree\":hp.quniform(\"colsample_bytree\",0.4,0.6,0.01)\n",
    "                  ,\"max_depth\":hp.quniform(\"max_depth\",60,90,1)\n",
    "                  ,\"min_child_samples\":hp.quniform(\"min_child_samples\",30,50,1)\n",
    "                  ,\"num_leaves\":hp.quniform(\"num_leaves\",90,130,1)\n",
    "                  ,\"random_state\":hp.quniform(\"random_state\",0,1,1)\n",
    "                 }"
   ]
  },
  {
   "cell_type": "code",
   "execution_count": 13,
   "id": "c61c0e8a",
   "metadata": {},
   "outputs": [],
   "source": [
    "LGBMClassifier?"
   ]
  },
  {
   "cell_type": "code",
   "execution_count": 173,
   "id": "83f488b0",
   "metadata": {},
   "outputs": [
    {
     "data": {
      "text/plain": [
       "{'colsample_bytree': 0.5,\n",
       " 'learning_rate': 0.08,\n",
       " 'max_depth': 83.0,\n",
       " 'max_features': 0,\n",
       " 'min_child_samples': 46.0,\n",
       " 'n_estimators': 54.0,\n",
       " 'num_leaves': 100.0}"
      ]
     },
     "execution_count": 173,
     "metadata": {},
     "output_type": "execute_result"
    }
   ],
   "source": [
    "params_best"
   ]
  },
  {
   "cell_type": "code",
   "execution_count": 29,
   "id": "29bd6ea1",
   "metadata": {},
   "outputs": [
    {
     "name": "stdout",
     "output_type": "stream",
     "text": [
      "[LightGBM] [Warning] Unknown parameter: max_features\n",
      "[LightGBM] [Warning] Unknown parameter: max_features\n",
      "[LightGBM] [Info] Number of positive: 12919, number of negative: 11525\n",
      "[LightGBM] [Warning] Auto-choosing col-wise multi-threading, the overhead of testing was 0.173556 seconds.\n",
      "You can set `force_col_wise=true` to remove the overhead.\n",
      "[LightGBM] [Info] Total Bins 292892\n",
      "[LightGBM] [Info] Number of data points in the train set: 24444, number of used features: 2488\n",
      "[LightGBM] [Info] [binary:BoostFromScore]: pavg=0.528514 -> initscore=0.114181\n",
      "[LightGBM] [Info] Start training from score 0.114181\n",
      "[LightGBM] [Warning] Unknown parameter: max_features\n",
      "[LightGBM] [Warning] Unknown parameter: max_features\n"
     ]
    },
    {
     "data": {
      "text/plain": [
       "(0.898883298564241, 0.9471854033709703)"
      ]
     },
     "execution_count": 29,
     "metadata": {},
     "output_type": "execute_result"
    }
   ],
   "source": [
    "clf_lgbm = LGBMClassifier(n_estimators = 51\n",
    "                             ,learning_rate = 0.1\n",
    "                             ,max_features = 1000\n",
    "                             ,colsample_bytree = 0.43\n",
    "                             ,max_depth = 70\n",
    "                             ,min_child_samples = 37\n",
    "                             ,n_jobs = 30\n",
    "                             ,random_state = 1412\n",
    "                             ,num_leaves = 109\n",
    "                              )\n",
    "clf_lgbm.fit(X_train, y_train)\n",
    "clf_lgbm.score(X_test, y_test), clf_lgbm.score(X_train, y_train)"
   ]
  },
  {
   "cell_type": "code",
   "execution_count": 32,
   "id": "0641698c",
   "metadata": {},
   "outputs": [
    {
     "name": "stdout",
     "output_type": "stream",
     "text": [
      "[LightGBM] [Warning] Unknown parameter: max_features\n"
     ]
    },
    {
     "data": {
      "text/plain": [
       "0.927039684495933"
      ]
     },
     "execution_count": 32,
     "metadata": {},
     "output_type": "execute_result"
    }
   ],
   "source": [
    "precision_score(y_test, clf_lgbm.predict(X_test)) #精确度"
   ]
  },
  {
   "cell_type": "code",
   "execution_count": 33,
   "id": "5a360944",
   "metadata": {},
   "outputs": [
    {
     "name": "stdout",
     "output_type": "stream",
     "text": [
      "[LightGBM] [Warning] Unknown parameter: max_features\n"
     ]
    },
    {
     "data": {
      "text/plain": [
       "0.8768943809745862"
      ]
     },
     "execution_count": 33,
     "metadata": {},
     "output_type": "execute_result"
    }
   ],
   "source": [
    "recall_score(y_test, clf_lgbm.predict(X_test))"
   ]
  },
  {
   "cell_type": "code",
   "execution_count": 34,
   "id": "1d9541c5",
   "metadata": {},
   "outputs": [
    {
     "name": "stdout",
     "output_type": "stream",
     "text": [
      "[LightGBM] [Warning] Unknown parameter: max_features\n"
     ]
    },
    {
     "data": {
      "text/plain": [
       "0.9012700694943686"
      ]
     },
     "execution_count": 34,
     "metadata": {},
     "output_type": "execute_result"
    }
   ],
   "source": [
    "f1_score(y_test, clf_lgbm.predict(X_test))"
   ]
  },
  {
   "cell_type": "code",
   "execution_count": 35,
   "id": "be111951",
   "metadata": {},
   "outputs": [
    {
     "name": "stdout",
     "output_type": "stream",
     "text": [
      "[LightGBM] [Warning] Unknown parameter: max_features\n"
     ]
    },
    {
     "data": {
      "text/plain": [
       "0.9534744260833534"
      ]
     },
     "execution_count": 35,
     "metadata": {},
     "output_type": "execute_result"
    }
   ],
   "source": [
    "AUC(y_test, clf_lgbm.predict_proba(X_test)[:, 1])"
   ]
  },
  {
   "cell_type": "code",
   "execution_count": 36,
   "id": "4b971782",
   "metadata": {},
   "outputs": [
    {
     "name": "stdout",
     "output_type": "stream",
     "text": [
      "[LightGBM] [Warning] Unknown parameter: max_features\n",
      "[LightGBM] [Warning] Unknown parameter: max_features\n"
     ]
    },
    {
     "data": {
      "image/png": "[encoded data removed]",
      "text/plain": [
       "<Figure size 432x288 with 1 Axes>"
      ]
     },
     "metadata": {
      "needs_background": "light"
     },
     "output_type": "display_data"
    }
   ],
   "source": [
    "FPR, recall, thesholds = roc_curve(y_test, clf_lgbm.predict_proba(X_test)[:, 1], pos_label = 1)\n",
    "plt.figure()\n",
    "plt.plot(FPR, recall, color='red',\n",
    "         label='ROC curve of class 1 (area = %0.4f)' % AUC(y_test, clf_lgbm.predict_proba(X_test)[:, 1]))\n",
    "plt.plot([0, 1], [0, 1], color='black', linestyle='--')\n",
    "plt.xlim([-0.05, 1.05])\n",
    "plt.ylim([-0.05, 1.05])\n",
    "plt.xlabel('False Positive Rate')\n",
    "plt.ylabel('Recall')\n",
    "plt.title('ROC Curves for LGBM after derivation')\n",
    "plt.legend(loc=\"lower right\")\n",
    "plt.savefig(\"LGBM_after\",dpi=1000)\n",
    "plt.show()"
   ]
  },
  {
   "cell_type": "code",
   "execution_count": 35,
   "id": "f27f3796",
   "metadata": {},
   "outputs": [
    {
     "data": {
      "text/plain": [
       "['clf_lgbm.joblib']"
      ]
     },
     "execution_count": 35,
     "metadata": {},
     "output_type": "execute_result"
    }
   ],
   "source": [
    "dump(clf_lgbm, 'clf_lgbm.joblib') "
   ]
  },
  {
   "cell_type": "code",
   "execution_count": 31,
   "id": "da951083",
   "metadata": {},
   "outputs": [
    {
     "name": "stdout",
     "output_type": "stream",
     "text": [
      "[LightGBM] [Warning] Unknown parameter: max_features\n",
      "[LightGBM] [Warning] Unknown parameter: max_features\n"
     ]
    },
    {
     "data": {
      "text/plain": [
       "(0.898883298564241, 0.9471854033709703)"
      ]
     },
     "execution_count": 31,
     "metadata": {},
     "output_type": "execute_result"
    }
   ],
   "source": [
    "clf_lgbm = load('clf_lgbm.joblib') \n",
    "clf_lgbm.score(X_test, y_test), clf_lgbm.score(X_train, y_train)"
   ]
  },
  {
   "cell_type": "code",
   "execution_count": null,
   "id": "ee29d84b",
   "metadata": {},
   "outputs": [],
   "source": []
  }
 ],
 "metadata": {
  "kernelspec": {
   "display_name": "Python 3",
   "language": "python",
   "name": "python3"
  },
  "language_info": {
   "codemirror_mode": {
    "name": "ipython",
    "version": 3
   },
   "file_extension": ".py",
   "mimetype": "text/x-python",
   "name": "python",
   "nbconvert_exporter": "python",
   "pygments_lexer": "ipython3",
   "version": "3.8.8"
  }
 },
 "nbformat": 4,
 "nbformat_minor": 5
}
