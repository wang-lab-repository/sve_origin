{
 "cells": [
  {
   "cell_type": "code",
   "execution_count": 1,
   "id": "3d757e83",
   "metadata": {},
   "outputs": [],
   "source": [
    "import ML_basic_function as fc\n",
    "from ML_basic_function import *\n",
    "import numpy as np\n",
    "import pandas as pd\n",
    "import seaborn as sns\n",
    "import matplotlib.pyplot as plt\n",
    "from sklearn import preprocessing\n",
    "from sklearn.compose import ColumnTransformer\n",
    "from sklearn.preprocessing import StandardScaler\n",
    "from sklearn.model_selection import train_test_split\n",
    "from sklearn.preprocessing import MinMaxScaler\n",
    "from sklearn.preprocessing import Normalizer\n",
    "from sklearn import cluster\n",
    "from sklearn import tree\n",
    "from sklearn.tree import DecisionTreeClassifier\n",
    "from sklearn.metrics import accuracy_score,precision_score,recall_score,f1_score,roc_auc_score,mutual_info_score\n",
    "from sklearn.linear_model import LogisticRegression\n",
    "from sklearn.pipeline import make_pipeline\n",
    "from sklearn.model_selection import GridSearchCV\n",
    "import time\n",
    "from sklearn.base import BaseEstimator, TransformerMixin,ClassifierMixin\n",
    "from sklearn.tree import DecisionTreeClassifier\n",
    "import inspect, re\n",
    "from sklearn.preprocessing import PolynomialFeatures\n",
    "from itertools import product\n",
    "from sklearn.preprocessing import OrdinalEncoder\n",
    "from tqdm import tqdm\n",
    "import gc\n",
    "from sklearn.feature_selection import VarianceThreshold,r_regression,SelectKBest,f_regression,SelectPercentile,chi2,f_classif,mutual_info_regression,mutual_info_classif,RFE,RFECV,SequentialFeatureSelector,SelectFromModel\n",
    "from scipy import stats\n",
    "import scipy\n",
    "import random\n",
    "from joblib import dump, load\n",
    "from scipy.special import digamma\n",
    "from sklearn.ensemble import RandomForestClassifier\n",
    "from sklearn.ensemble import VotingClassifier\n",
    "from hyperopt import hp, fmin, tpe\n",
    "from numpy.random import RandomState\n",
    "from sklearn.model_selection import cross_val_score\n",
    "from sklearn.metrics import roc_curve\n",
    "from sklearn.metrics import roc_auc_score as AUC\n",
    "import xgboost as xgb\n",
    "from sklearn.ensemble import GradientBoostingClassifier as GBC\n",
    "import lightgbm as lgb\n",
    "from lightgbm import LGBMClassifier\n",
    "from sklearn.metrics import confusion_matrix"
   ]
  },
  {
   "cell_type": "code",
   "execution_count": 2,
   "id": "5b1e1dec",
   "metadata": {},
   "outputs": [],
   "source": [
    "X_train = pd.read_csv(\"fff/X_train.csv\")\n",
    "X_test = pd.read_csv(\"fff/X_test.csv\")\n",
    "y_train = pd.read_csv(\"fff/y_train.csv\")\n",
    "y_test = pd.read_csv(\"fff/y_test.csv\")"
   ]
  },
  {
   "cell_type": "code",
   "execution_count": 3,
   "id": "071b6ff9",
   "metadata": {},
   "outputs": [],
   "source": [
    "y_train = np.ravel(y_train)\n",
    "y_test = np.ravel(y_test)"
   ]
  },
  {
   "cell_type": "code",
   "execution_count": 4,
   "id": "091c71ea",
   "metadata": {},
   "outputs": [],
   "source": [
    "y_train = pd.Series(y_train)\n",
    "y_test = pd.Series(y_test)"
   ]
  },
  {
   "cell_type": "code",
   "execution_count": 5,
   "id": "41bdacc8",
   "metadata": {},
   "outputs": [],
   "source": [
    "clf = load('clf.joblib')\n",
    "clf_GBDT = load('clf_GBDT.joblib')\n",
    "clf_xgb = load('clf_xgb.joblib')\n",
    "clf_tree = load('clf_tree.joblib')\n",
    "clf_lgbm = load('clf_lgbm.joblib')"
   ]
  },
  {
   "cell_type": "code",
   "execution_count": 6,
   "id": "ab8ad370",
   "metadata": {},
   "outputs": [],
   "source": [
    "data_train = xgb.DMatrix(X_train, y_train)\n",
    "data_test = xgb.DMatrix(X_test, y_test)"
   ]
  },
  {
   "cell_type": "code",
   "execution_count": 7,
   "id": "1451a673",
   "metadata": {},
   "outputs": [
    {
     "name": "stdout",
     "output_type": "stream",
     "text": [
      "[LightGBM] [Warning] Unknown parameter: max_features\n"
     ]
    }
   ],
   "source": [
    "clf_predict_proba = pd.Series(clf.predict_proba(X_test)[:, 1], index=X_test.index)\n",
    "clf_GBDT_predict_proba = pd.Series(clf_GBDT.predict_proba(X_test)[:, 1], index=X_test.index)\n",
    "clf_xgb_predict_proba = pd.Series(clf_xgb.predict(data_test), index=X_test.index)\n",
    "clf_tree_predict_proba = pd.Series(clf_tree.predict_proba(X_test)[:, 1], index=X_test.index)\n",
    "clf_lgbm_predict_proba = pd.Series(clf_lgbm.predict_proba(X_test)[:, 1], index=X_test.index)"
   ]
  },
  {
   "cell_type": "markdown",
   "id": "54fdfae4",
   "metadata": {},
   "source": []
  },
  {
   "cell_type": "code",
   "execution_count": 45,
   "id": "f3e71ebe",
   "metadata": {},
   "outputs": [],
   "source": [
    "# 定义超参数空间\n",
    "params_space = {'thr': hp.uniform(\"thr\", 0.4, 0.6), \n",
    "                'weight1': hp.uniform(\"weight1\",0,1),\n",
    "                'weight2': hp.uniform(\"weight2\",0,1),\n",
    "                'weight4': hp.uniform(\"weight4\",0,1),\n",
    "                'weight5': hp.uniform(\"weight5\",0,1)\n",
    "               }"
   ]
  },
  {
   "cell_type": "code",
   "execution_count": 46,
   "id": "4ce34eda",
   "metadata": {},
   "outputs": [],
   "source": [
    "# 定义目标函数\n",
    "def hyperopt_objective_weight(params):\n",
    "    thr = params['thr']\n",
    "    weight1 = params['weight1']\n",
    "    weight2 = params['weight2']\n",
    "    weight4 = params['weight4']\n",
    "    weight5 = params['weight5']\n",
    "\n",
    "    weights_sum = weight1 + weight2 + weight4 + weight5\n",
    "\n",
    "    predict_probo_weight = (clf_predict_proba * weight1 + \n",
    "                            clf_GBDT_predict_proba * weight2 + \n",
    "                            clf_tree_predict_proba * weight4 +\n",
    "                            clf_lgbm_predict_proba * weight5) / weights_sum\n",
    "\n",
    "    res_weight = (predict_probo_weight >= thr) * 1\n",
    "\n",
    "    score = accuracy_score(res_weight, y_test)\n",
    "    \n",
    "    return -score"
   ]
  },
  {
   "cell_type": "code",
   "execution_count": 47,
   "id": "b262e20f",
   "metadata": {},
   "outputs": [],
   "source": [
    "# 定义优化函数\n",
    "def param_hyperopt_weight(max_evals):\n",
    "    params_best = fmin(fn = hyperopt_objective_weight,\n",
    "                       space = params_space,\n",
    "                       algo = tpe.suggest,\n",
    "                       max_evals = max_evals, \n",
    "                      )    \n",
    "    return params_best"
   ]
  },
  {
   "cell_type": "code",
   "execution_count": 51,
   "id": "27732496",
   "metadata": {},
   "outputs": [
    {
     "name": "stdout",
     "output_type": "stream",
     "text": [
      "100%|███████████████████████████████████████| 60000/60000 [5:06:13<00:00,  3.27trial/s, best loss: -0.9025647318689409]\n"
     ]
    }
   ],
   "source": [
    "params_best = param_hyperopt_weight(60000)"
   ]
  },
  {
   "cell_type": "code",
   "execution_count": 52,
   "id": "e254f2c9",
   "metadata": {},
   "outputs": [
    {
     "data": {
      "text/plain": [
       "{'thr': 0.5206391228471223,\n",
       " 'weight1': 0.0011813409056066586,\n",
       " 'weight2': 0.8171992988107522,\n",
       " 'weight4': 0.12484581578020071,\n",
       " 'weight5': 0.21172312091239107}"
      ]
     },
     "execution_count": 52,
     "metadata": {},
     "output_type": "execute_result"
    }
   ],
   "source": [
    "params_best"
   ]
  },
  {
   "cell_type": "code",
   "execution_count": 21,
   "id": "5232c61b",
   "metadata": {},
   "outputs": [
    {
     "data": {
      "text/plain": [
       "0.9025647318689409"
      ]
     },
     "execution_count": 21,
     "metadata": {},
     "output_type": "execute_result"
    }
   ],
   "source": [
    "weights_sum = 0.0011813409056066586 + 0.8171992988107522 + 0.12484581578020071 + 0.21172312091239107\n",
    "\n",
    "predict_probo_weight = (clf_predict_proba * 0.0011813409056066586 + \n",
    "                            clf_GBDT_predict_proba * 0.8171992988107522 + \n",
    "                            clf_tree_predict_proba * 0.12484581578020071 +\n",
    "                            clf_lgbm_predict_proba * 0.21172312091239107) / weights_sum\n",
    "\n",
    "res_weight = (predict_probo_weight >= 0.5206391228471223) * 1\n",
    "\n",
    "accuracy_score(res_weight, y_test)"
   ]
  },
  {
   "cell_type": "code",
   "execution_count": 22,
   "id": "d577c789",
   "metadata": {},
   "outputs": [
    {
     "data": {
      "text/plain": [
       "0.8696665889484728"
      ]
     },
     "execution_count": 22,
     "metadata": {},
     "output_type": "execute_result"
    }
   ],
   "source": [
    "precision_score(res_weight, y_test) #精确度"
   ]
  },
  {
   "cell_type": "code",
   "execution_count": 23,
   "id": "fcf84cfa",
   "metadata": {},
   "outputs": [
    {
     "data": {
      "text/plain": [
       "0.9407313997477932"
      ]
     },
     "execution_count": 23,
     "metadata": {},
     "output_type": "execute_result"
    }
   ],
   "source": [
    "recall_score(res_weight, y_test)"
   ]
  },
  {
   "cell_type": "code",
   "execution_count": 24,
   "id": "80a7a692",
   "metadata": {},
   "outputs": [
    {
     "data": {
      "text/plain": [
       "0.9038042161376303"
      ]
     },
     "execution_count": 24,
     "metadata": {},
     "output_type": "execute_result"
    }
   ],
   "source": [
    "f1_score(res_weight, y_test)"
   ]
  },
  {
   "cell_type": "code",
   "execution_count": 25,
   "id": "cadae4e7",
   "metadata": {},
   "outputs": [
    {
     "data": {
      "text/plain": [
       "0.9545308096262641"
      ]
     },
     "execution_count": 25,
     "metadata": {},
     "output_type": "execute_result"
    }
   ],
   "source": [
    "AUC(y_test, predict_probo_weight)"
   ]
  },
  {
   "cell_type": "code",
   "execution_count": 26,
   "id": "7b339048",
   "metadata": {},
   "outputs": [
    {
     "data": {
      "image/png": "[encoded data removed]",
      "text/plain": [
       "<Figure size 432x288 with 1 Axes>"
      ]
     },
     "metadata": {
      "needs_background": "light"
     },
     "output_type": "display_data"
    }
   ],
   "source": [
    "FPR, recall, thesholds = roc_curve(y_test, predict_probo_weight, pos_label = 1)\n",
    "plt.figure()\n",
    "plt.plot(FPR, recall, color='red',\n",
    "         label='ROC curve of class 1 (area = %0.4f)' % AUC(y_test, predict_probo_weight))\n",
    "plt.plot([0, 1], [0, 1], color='black', linestyle='--')\n",
    "plt.xlim([-0.05, 1.05])\n",
    "plt.ylim([-0.05, 1.05])\n",
    "plt.xlabel('False Positive Rate')\n",
    "plt.ylabel('Recall')\n",
    "plt.title('ROC Curves for HM after derivation')\n",
    "plt.legend(loc=\"lower right\")\n",
    "plt.savefig(\"HM_after\",dpi=1000)\n",
    "plt.show()"
   ]
  },
  {
   "cell_type": "code",
   "execution_count": 29,
   "id": "990978ec",
   "metadata": {},
   "outputs": [
    {
     "name": "stdout",
     "output_type": "stream",
     "text": [
      "[[3625  235]\n",
      " [ 559 3730]]\n"
     ]
    }
   ],
   "source": [
    "cm = confusion_matrix(y_test, res_weight)   \n",
    "print(cm)"
   ]
  },
  {
   "cell_type": "code",
   "execution_count": 40,
   "id": "e069820d",
   "metadata": {
    "scrolled": false
   },
   "outputs": [
    {
     "data": {
      "image/png": "[encoded data removed]",
      "text/plain": [
       "<Figure size 1200x1200 with 2 Axes>"
      ]
     },
     "metadata": {
      "needs_background": "light"
     },
     "output_type": "display_data"
    }
   ],
   "source": [
    "plt.figure(figsize=(6,6), dpi=200)\n",
    "sns.heatmap (cm, annot = True, fmt = \".1f\", xticklabels = [\"Pass\", \"Fail\"], yticklabels = [\"Pass\", \"Fail\"])\n",
    "plt.savefig(\"cm\",dpi=200)\n",
    "#plt.savefig(\"heatmapp\",dpi=1000)"
   ]
  }
 ],
 "metadata": {
  "kernelspec": {
   "display_name": "Python 3",
   "language": "python",
   "name": "python3"
  },
  "language_info": {
   "codemirror_mode": {
    "name": "ipython",
    "version": 3
   },
   "file_extension": ".py",
   "mimetype": "text/x-python",
   "name": "python",
   "nbconvert_exporter": "python",
   "pygments_lexer": "ipython3",
   "version": "3.8.8"
  }
 },
 "nbformat": 4,
 "nbformat_minor": 5
}
